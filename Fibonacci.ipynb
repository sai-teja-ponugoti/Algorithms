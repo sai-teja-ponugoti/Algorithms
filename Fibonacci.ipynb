{
  "nbformat": 4,
  "nbformat_minor": 0,
  "metadata": {
    "colab": {
      "name": "Fibonacci.ipynb",
      "provenance": [],
      "authorship_tag": "ABX9TyOIn7abxY2Y4cz2bvu6ohrZ",
      "include_colab_link": true
    },
    "kernelspec": {
      "name": "python3",
      "display_name": "Python 3"
    },
    "language_info": {
      "name": "python"
    }
  },
  "cells": [
    {
      "cell_type": "markdown",
      "metadata": {
        "id": "view-in-github",
        "colab_type": "text"
      },
      "source": [
        "<a href=\"https://colab.research.google.com/github/sai-teja-ponugoti/Algorithms/blob/main/Fibonacci.ipynb\" target=\"_parent\"><img src=\"https://colab.research.google.com/assets/colab-badge.svg\" alt=\"Open In Colab\"/></a>"
      ]
    },
    {
      "cell_type": "markdown",
      "source": [
        "# Nth Fibonacci\n",
        "The Fibonacci sequence is defined as follows: the first number of the sequence is 0, the second number is 1, and the nth number is the sum of the (n - 1)th and (n - 2)th numbers. Write a function that takes in an integer n and returns the nth Fibonacci number.\n",
        "\n",
        "Important note: the Fibonacci sequence is often defined with its first two numbers as F0 = 0 and F1 = 1. For the purpose of this question, the first Fibonacci number is F0; therefore, getNthFib(1) is equal to F0, getNthFib(2) is equal to F1, etc..\n",
        "\n",
        "Sample Input #1\n",
        "\n",
        "n = 2\n",
        "\n",
        "Sample Output #1\n",
        "\n",
        "1 // 0, 1\n",
        "\n",
        "Sample Input #2\n",
        "\n",
        "n = 6\n",
        "\n",
        "Sample Output #2\n",
        "\n",
        "5 // 0, 1, 1, 2, 3, 5"
      ],
      "metadata": {
        "id": "a4XkE_jvKTpE"
      }
    },
    {
      "cell_type": "markdown",
      "source": [
        "### O(2^n) time and O(n) space"
      ],
      "metadata": {
        "id": "33GQiiXIKfWf"
      }
    },
    {
      "cell_type": "code",
      "source": [
        "def getNthFib(n):\n",
        "    if n == 2:\n",
        "        return 1\n",
        "    elif n == 1:\n",
        "        return 0\n",
        "    else:\n",
        "        return getNthFib(n - 1) + getNthFib(n - 2)"
      ],
      "metadata": {
        "id": "dCnavMYpKeWS"
      },
      "execution_count": 1,
      "outputs": []
    },
    {
      "cell_type": "markdown",
      "source": [
        "### O(n) time and O(n) space"
      ],
      "metadata": {
        "id": "UF7vxfZKK0FH"
      }
    },
    {
      "cell_type": "code",
      "source": [
        "def getNthFib(n, memoize={1: 0, 2: 1}):\n",
        "\n",
        "    if n in memoize:\n",
        "        return memoize[n]\n",
        "    else:\n",
        "        memoize[n] = getNthFib(n - 1, memoize) + getNthFib(n - 2, memoize)\n",
        "        return memoize[n]"
      ],
      "metadata": {
        "id": "loFZhUoOKzhL"
      },
      "execution_count": 2,
      "outputs": []
    },
    {
      "cell_type": "markdown",
      "source": [
        "### O(n) time and O(1) space"
      ],
      "metadata": {
        "id": "8z76GgftLHV-"
      }
    },
    {
      "cell_type": "code",
      "source": [
        "def getNthFib(n):\n",
        "    # Write your code here.\n",
        "\tlastTwo = [0,1]\n",
        "\tcounter = 3\n",
        "\twhile counter<=n:\n",
        "\t\tcurrentFib = lastTwo[0]+lastTwo[1]\n",
        "\t\tlastTwo[0] = lastTwo[1]\n",
        "\t\tlastTwo[1] = currentFib\n",
        "\t\tcounter += 1\n",
        "\t\n",
        "\treturn lastTwo[1] if n>1 else lastTwo[0]"
      ],
      "metadata": {
        "id": "2zx8TkbyLFO3"
      },
      "execution_count": 3,
      "outputs": []
    },
    {
      "cell_type": "code",
      "source": [
        ""
      ],
      "metadata": {
        "id": "KuNPIqRAMiPB"
      },
      "execution_count": null,
      "outputs": []
    }
  ]
}