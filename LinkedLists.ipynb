{
  "nbformat": 4,
  "nbformat_minor": 0,
  "metadata": {
    "colab": {
      "name": "LinkedLists.ipynb",
      "provenance": [],
      "authorship_tag": "ABX9TyNZ3iHU7jbtuYuyslJjLS88",
      "include_colab_link": true
    },
    "kernelspec": {
      "name": "python3",
      "display_name": "Python 3"
    },
    "language_info": {
      "name": "python"
    }
  },
  "cells": [
    {
      "cell_type": "markdown",
      "metadata": {
        "id": "view-in-github",
        "colab_type": "text"
      },
      "source": [
        "<a href=\"https://colab.research.google.com/github/sai-teja-ponugoti/Algorithms/blob/main/LinkedLists.ipynb\" target=\"_parent\"><img src=\"https://colab.research.google.com/assets/colab-badge.svg\" alt=\"Open In Colab\"/></a>"
      ]
    },
    {
      "cell_type": "markdown",
      "source": [
        "# Remove Duplicates From Linked List\n",
        "You're given the head of a Singly Linked List whose nodes are in sorted order with respect to their values. Write a function that returns a modified version of the Linked List that doesn't contain any nodes with duplicate values. The Linked List should be modified in place (i.e., you shouldn't create a brand new list), and the modified Linked List should still have its nodes sorted with respect to their values.\n",
        "\n",
        "Each LinkedList node has an integer value as well as a next node pointing to the next node in the list or to None / null if it's the tail of the list.\n",
        "\n",
        "Sample Input\n",
        "linkedList = 1 -> 1 -> 3 -> 4 -> 4 -> 4 -> 5 -> 6 -> 6 // the head node with value 1\n",
        "\n",
        "Sample Output\n",
        "1 -> 3 -> 4 -> 5 -> 6 // the head node with value 1"
      ],
      "metadata": {
        "id": "CzVMtMf8VzKA"
      }
    },
    {
      "cell_type": "code",
      "source": [
        "\n",
        "class LinkedList:\n",
        "    def __init__(self, value):\n",
        "        self.value = value\n",
        "        self.next = None\n",
        "\n",
        "# O(n) time | O(1) space - where n is the number of nodes in the Linked List\n",
        "def removeDuplicatesFromLinkedList(linkedList):\n",
        "    currentNode = linkedList\n",
        "    while currentNode is not None:\n",
        "        nextDistinctNode = currentNode.next\n",
        "        while nextDistinctNode is not None and nextDistinctNode.value == currentNode.value:\n",
        "            nextDistinctNode = nextDistinctNode.next\n",
        "\n",
        "        currentNode.next = nextDistinctNode\n",
        "        currentNode = nextDistinctNode\n",
        "\n",
        "    return linkedList"
      ],
      "metadata": {
        "id": "RUVEkEOUV8qP"
      },
      "execution_count": 1,
      "outputs": []
    },
    {
      "cell_type": "code",
      "source": [
        ""
      ],
      "metadata": {
        "id": "tpCoK106WILY"
      },
      "execution_count": null,
      "outputs": []
    }
  ]
}