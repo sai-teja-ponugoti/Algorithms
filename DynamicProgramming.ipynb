{
  "nbformat": 4,
  "nbformat_minor": 0,
  "metadata": {
    "colab": {
      "name": "DynamicProgramming.ipynb",
      "provenance": [],
      "authorship_tag": "ABX9TyNNIXhdiY3R+79/YN2NWcYb",
      "include_colab_link": true
    },
    "kernelspec": {
      "name": "python3",
      "display_name": "Python 3"
    },
    "language_info": {
      "name": "python"
    }
  },
  "cells": [
    {
      "cell_type": "markdown",
      "metadata": {
        "id": "view-in-github",
        "colab_type": "text"
      },
      "source": [
        "<a href=\"https://colab.research.google.com/github/sai-teja-ponugoti/Algorithms/blob/main/DynamicProgramming.ipynb\" target=\"_parent\"><img src=\"https://colab.research.google.com/assets/colab-badge.svg\" alt=\"Open In Colab\"/></a>"
      ]
    },
    {
      "cell_type": "markdown",
      "source": [
        "# Max Subset Sum No Adjacent\n",
        "Write a function that takes in an array of positive integers and returns the maximum sum of non-adjacent elements in the array.\n",
        "\n",
        "If the input array is empty, the function should return 0.\n",
        "\n",
        "Sample Input\n",
        "\n",
        "array = [75, 105, 120, 75, 90, 135]\n",
        "\n",
        "Sample Output\n",
        "\n",
        "330 // 75 + 120 + 135"
      ],
      "metadata": {
        "id": "ed81qX0kywGv"
      }
    },
    {
      "cell_type": "markdown",
      "source": [
        "### O(n) time and O(n) space"
      ],
      "metadata": {
        "id": "lCQHFWuayxKJ"
      }
    },
    {
      "cell_type": "code",
      "source": [
        "def maxSubsetSumNoAdjacent(array):\n",
        "    # Write your code here.\n",
        "\t# we need to use dynamic programming.  i.e. solving smaller problem will lead up to final solution\n",
        "\t# we will create an array in which we will store the greatest sun that we can make till the index\n",
        "\t# includ=ing the value at index\n",
        "\tif len(array) == 0:\n",
        "\t\treturn 0\n",
        "\tif len(array) ==1:\n",
        "\t\treturn array[0]\n",
        "\tmaxSums = [1 for _ in range(len(array))]\n",
        "\tmaxSums[0] = array[0]\n",
        "\tmaxSums[1] = max(array[0], array[1])\n",
        "\tfor i in range(2,len(array)):\n",
        "\t\tmaxSums[i] = max(maxSums[i-1], maxSums[i-2]+array[i])\n",
        "\t\t\n",
        "\treturn maxSums[-1]"
      ],
      "metadata": {
        "id": "D1W5nCKCywdr"
      },
      "execution_count": 1,
      "outputs": []
    },
    {
      "cell_type": "markdown",
      "source": [
        "### O(n) time and O(1) space"
      ],
      "metadata": {
        "id": "yFT_8IgMzAVu"
      }
    },
    {
      "cell_type": "code",
      "source": [
        "def maxSubsetSumNoAdjacent(array):\n",
        "    # Write your code here.\n",
        "\t# we need to use dynamic programming.  i.e. solving smaller problem will lead up to final solution\n",
        "\t# we will create an array in which we will store the greatest sun that we can make till the index\n",
        "\t# includ=ing the value at index\n",
        "\tif len(array) == 0:\n",
        "\t\treturn 0\n",
        "\tif len(array) ==1:\n",
        "\t\treturn array[0]\n",
        "\t# maxSums = [1 for _ in range(len(array))]\n",
        "\tfirstMax = array[0]\n",
        "\tsecondMax =max(array[0], array[1])\n",
        "\tfor i in range(2,len(array)):\n",
        "\t\tcurrentMax = max(secondMax, firstMax+array[i])\n",
        "\t\tfirstMax = secondMax\n",
        "\t\tsecondMax = currentMax\n",
        "\t\t\n",
        "\treturn secondMax"
      ],
      "metadata": {
        "id": "IIZWBmOXy2SS"
      },
      "execution_count": 2,
      "outputs": []
    },
    {
      "cell_type": "code",
      "source": [
        ""
      ],
      "metadata": {
        "id": "F_Dyyz7bzpi6"
      },
      "execution_count": null,
      "outputs": []
    },
    {
      "cell_type": "markdown",
      "source": [
        "# Number Of Ways To Make Change\n",
        "Given an array of distinct positive integers representing coin denominations and a single non-negative integer n representing a target amount of money, write a function that returns the number of ways to make change for that target amount using the given coin denominations.\n",
        "\n",
        "Note that an unlimited amount of coins is at your disposal.\n",
        "\n",
        "Sample Input\n",
        "n = 6\n",
        "\n",
        "denoms = [1, 5]\n",
        "\n",
        "Sample Output\n",
        "\n",
        "2 // 1x1 + 1x5 and 6x1"
      ],
      "metadata": {
        "id": "L8EP4Spi6et6"
      }
    },
    {
      "cell_type": "code",
      "source": [
        "# O(n*d) time and O(n) space\n",
        "def numberOfWaysToMakeChange(n, denoms):\n",
        "    # Write your code here.\n",
        "\tno_of_ways = [0 for amount in range(n+1)]\n",
        "\t# we keep the first index value as 1 for amount 0, as there is only one of making 0 chnage i.e. not usign any coins\n",
        "\tno_of_ways[0] = 1\n",
        "\t# at first we will iterate through a denoms and thena n inner loop to go through all amounts of change\n",
        "\t# if demon <= amount we have a chance of making the chnage. So we can update the ways for amount to a\n",
        "\t# that is current ways + no of ways [amount - demon] change can be made. if s [amount - demon] change can be made is \n",
        "\t# zero, number of ways to make the amount remains same\n",
        "\tfor denom in denoms:\n",
        "\t\tfor index in range(1,n+1):\n",
        "\t\t\tif denom <= index:\n",
        "\t\t\t\tno_of_ways[index] += no_of_ways[index-denom]\n",
        "\n",
        "\treturn no_of_ways[n]\n"
      ],
      "metadata": {
        "id": "3A4_3pNh6e_z"
      },
      "execution_count": 4,
      "outputs": []
    },
    {
      "cell_type": "markdown",
      "source": [
        "# Min Number Of Coins For Change\n",
        "Given an array of positive integers representing coin denominations and a single non-negative integer n representing a target amount of money, write a function that returns the smallest number of coins needed to make change for (to sum up to) that target amount using the given coin denominations.\n",
        "\n",
        "Note that you have access to an unlimited amount of coins. In other words, if the denominations are [1, 5, 10], you have access to an unlimited amount of 1s, 5s, and 10s.\n",
        "\n",
        "If it's impossible to make change for the target amount, return -1.\n",
        "\n",
        "Sample Input\n",
        "\n",
        "n = 7\n",
        "\n",
        "denoms = [1, 5, 10]\n",
        "\n",
        "Sample Output\n",
        "3 // 2x1 + 1x5"
      ],
      "metadata": {
        "id": "mBxvJ8bL8Q6J"
      }
    },
    {
      "cell_type": "code",
      "source": [
        "# (nd) time | O(n) space\n",
        "\n",
        "def minNumberOfCoinsForChange(n, denoms):\n",
        "    # Write your code here.\n",
        "\tmin_coins =[float(\"inf\") for _ in range(n+1)]\n",
        "\t# min/max coins need to make 0 dollars is zero\n",
        "\tmin_coins[0] = 0\n",
        "\tfor denom in denoms:\n",
        "\t\tfor amount in range(n+1):\n",
        "\t\t\tif denom <= amount:\n",
        "\t\t\t\tmin_coins[amount] = min(min_coins[amount-denom]+1, min_coins[amount])\n",
        "\t\t\t\t\n",
        "\treturn min_coins[n] if min_coins[n] != float(\"inf\") else -1"
      ],
      "metadata": {
        "id": "ZEaa9hDZ8Viy"
      },
      "execution_count": 6,
      "outputs": []
    },
    {
      "cell_type": "markdown",
      "source": [
        "# Levenshtein Distance\n",
        "Write a function that takes in two strings and returns the minimum number of edit operations that need to be performed on the first string to obtain the second string.\n",
        "\n",
        "There are three edit operations: insertion of a character, deletion of a character, and substitution of a character for another.\n",
        "\n",
        "Sample Input\n",
        "\n",
        "str1 = \"abc\"\n",
        "\n",
        "str2 = \"yabd\"\n",
        "\n",
        "Sample Output\n",
        "\n",
        "2 // insert \"y\"; substitute \"c\" for \"d\""
      ],
      "metadata": {
        "id": "6h80p_Y6AWku"
      }
    },
    {
      "cell_type": "code",
      "source": [
        "# O(nm) time and O(nm) space\n",
        "def levenshteinDistance(str1, str2):\n",
        "    # Write your code here.\n",
        "\tedits = [[x for x in range(len(str1)+1)] for y in range(len(str2)+1)]\n",
        "\tfor i in range(1,len(str2)+1):\n",
        "\t\tedits[i][0] = edits[i-1][0]+1\n",
        "\t\t\n",
        "\tfor i in range(1, len(str2)+1):\n",
        "\t\tfor j in range(1, len(str1)+1):\n",
        "\t\t\tif str2[i-1] == str1[j-1]:\n",
        "\t\t\t\tedits[i][j] = edits[i-1][j-1]\n",
        "\t\t\telse:\n",
        "\t\t\t\tedits[i][j] = 1+ min(edits[i-1][j-1],edits[i][j-1], edits[i-1][j])\n",
        "\t\t\t\t\n",
        "\treturn edits[-1][-1]"
      ],
      "metadata": {
        "id": "uc8R14u-_gGV"
      },
      "execution_count": 7,
      "outputs": []
    },
    {
      "cell_type": "code",
      "source": [
        "# O(nm) time | O(min(n, m)) space\n",
        "def levenshteinDistance(str1, str2):\n",
        "    small = str1 if len(str1) < len(str2) else str2\n",
        "    big = str1 if len(str1) >= len(str2) else str2\n",
        "    evenEdits = [x for x in range(len(small) + 1)]\n",
        "    oddEdits = [None for x in range(len(small) + 1)]\n",
        "\n",
        "    for i in range(1, len(big) + 1):\n",
        "        if i % 2 == 1:\n",
        "            currentEdits = oddEdits\n",
        "        else:\n",
        "            currentEdits = evenEdits\n",
        "            previousEdits = oddEdits\n",
        "        currentEdits[0] = i\n",
        "        for j in range(1, len(small) + 1):\n",
        "            if big[i - 1] == small[j - 1]:\n",
        "                currentEdits[j] = previousEdits[j - 1]\n",
        "            else:\n",
        "                currentEdits[j] = 1 + min(previousEdits[j - 1], previousEdits[j], currentEdits[j - 1])\n",
        "    return evenEdits[-1] if len(big) % 2 == 0 else oddEdits[-1]"
      ],
      "metadata": {
        "id": "6HTK3bMWFLO9"
      },
      "execution_count": 8,
      "outputs": []
    },
    {
      "cell_type": "code",
      "source": [
        ""
      ],
      "metadata": {
        "id": "WB4saUipHbQm"
      },
      "execution_count": null,
      "outputs": []
    }
  ]
}