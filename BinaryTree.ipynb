{
  "nbformat": 4,
  "nbformat_minor": 0,
  "metadata": {
    "colab": {
      "name": "BinaryTree.ipynb",
      "provenance": [],
      "authorship_tag": "ABX9TyNzidEtcVIKy7tS1sKc6NSg",
      "include_colab_link": true
    },
    "kernelspec": {
      "name": "python3",
      "display_name": "Python 3"
    },
    "language_info": {
      "name": "python"
    }
  },
  "cells": [
    {
      "cell_type": "markdown",
      "metadata": {
        "id": "view-in-github",
        "colab_type": "text"
      },
      "source": [
        "<a href=\"https://colab.research.google.com/github/sai-teja-ponugoti/Algorithms/blob/main/BinaryTree.ipynb\" target=\"_parent\"><img src=\"https://colab.research.google.com/assets/colab-badge.svg\" alt=\"Open In Colab\"/></a>"
      ]
    },
    {
      "cell_type": "markdown",
      "source": [
        "# Invert Binary Tree\n",
        "Write a function that takes in a Binary Tree and inverts it. In other words, the function should swap every left node in the tree for its corresponding right node.\n",
        "\n",
        "Each BinaryTree node has an integer value, a left child node, and a right child node. Children nodes can either be BinaryTree nodes themselves or None / null."
      ],
      "metadata": {
        "id": "UmzcFKPHGbUX"
      }
    },
    {
      "cell_type": "markdown",
      "source": [
        "# O(n) time and O(n) space\n",
        "\n",
        "O(n) space as at max we will have all the leaf nodes in the queue. There will be at max n/2 leaf nodes in a n node tree"
      ],
      "metadata": {
        "id": "nJnbT9DLGWFk"
      }
    },
    {
      "cell_type": "code",
      "source": [
        "def invertBinaryTree(tree):\n",
        "    # Write your code here.\n",
        "\tque = [tree]\n",
        "\twhile len(que):\n",
        "\t\tcurrentNode = que.pop(0)\n",
        "\t\tif currentNode is None:\n",
        "\t\t\tcontinue\n",
        "\t\tcurrentNode.left, currentNode.right = currentNode.right, currentNode.left\n",
        "\t\tque.append(currentNode.left)\n",
        "\t\tque.append(currentNode.right)\n",
        "\t\t\n",
        "# This is the class of the input binary tree.\n",
        "class BinaryTree:\n",
        "    def __init__(self, value):\n",
        "        self.value = value\n",
        "        self.left = None\n",
        "        self.right = None\n"
      ],
      "metadata": {
        "id": "jwt3rUsCGWb5"
      },
      "execution_count": null,
      "outputs": []
    },
    {
      "cell_type": "markdown",
      "source": [
        "### O(n) time and O(d) space\n",
        "\n",
        "d = depth\n",
        "\n",
        "O(d) space as at max we will have d (depth) number of call frames on the stack"
      ],
      "metadata": {
        "id": "iR0WB9DSHmre"
      }
    },
    {
      "cell_type": "code",
      "source": [
        "def invertBinaryTree(tree):\n",
        "    # Write your code here.\n",
        "\tif tree is None:\n",
        "\t\treturn\n",
        "\ttree.left, tree.right = tree.right, tree.left\n",
        "\tinvertBinaryTree(tree.left)\n",
        "\tinvertBinaryTree(tree.right)"
      ],
      "metadata": {
        "id": "CIcXd457Hrsb"
      },
      "execution_count": 1,
      "outputs": []
    },
    {
      "cell_type": "markdown",
      "source": [
        "# Binary Tree Diameter\n",
        "Write a function that takes in a Binary Tree and returns its diameter. The diameter of a binary tree is defined as the length of its longest path, even if that path doesn't pass through the root of the tree.\n",
        "\n",
        "A path is a collection of connected nodes in a tree, where no node is connected to more than two other nodes. The length of a path is the number of edges between the path's first node and its last node.\n",
        "\n",
        "Each BinaryTree node has an integer value, a left child node, and a right child node. Children nodes can either be BinaryTree nodes themselves or None / null.\n",
        "Tree:\n",
        "\n",
        "              1\n",
        "            /   \\\n",
        "           3     2\n",
        "         /   \\ \n",
        "        7     4\n",
        "       /       \\\n",
        "      8         5\n",
        "     /           \\\n",
        "    9             6\n",
        "\n",
        "\n",
        "\n",
        "Sample Output\n",
        "6 // 9 -> 8 -> 7 -> 3 -> 4 -> 5 -> 6\n",
        "// There are 6 edges between the\n",
        "// first node and the last node\n",
        "// of this tree's longest path."
      ],
      "metadata": {
        "id": "UV-hr4g4Lpj_"
      }
    },
    {
      "cell_type": "markdown",
      "source": [
        "The trick for solving this questiong:\n",
        "1.  Find the daimeter of the leftSubTree and rightSubTree. The diameter of the node will be the max of the diameters of left and right sub tress\n",
        "2. Find the height of left and right sub tree and the maximum path that can be made through the root node is (left height + right height)\n",
        "3. So the maximum daimeter/longest path for a node can be max(max(daimeters) -- point 1, max length path -- point2)"
      ],
      "metadata": {
        "id": "WdWviG-TL8DA"
      }
    },
    {
      "cell_type": "code",
      "source": [
        "class BinaryTree:\n",
        "    def __init__(self, value, left=None, right=None):\n",
        "        self.value = value\n",
        "        self.left = left\n",
        "        self.right = right\n",
        "\n",
        "class TreeInfo:\n",
        "\tdef __init__(self, diameter, height):\n",
        "\t\tself.diameter = diameter\n",
        "\t\tself.height = height\n",
        "\n",
        "def binaryTreeDiameter(tree):\n",
        "    # Write your code here.\n",
        "\t\n",
        "    return getTreeInfo(tree).diameter\n",
        "\n",
        "def getTreeInfo(tree):\n",
        "\tif tree is None:\n",
        "\t\treturn TreeInfo(0,0)\n",
        "\t\n",
        "\tleftTreeInfo = getTreeInfo(tree.left)\n",
        "\trightTreeInfo = getTreeInfo(tree.right)\n",
        "\t\n",
        "    #  sum of heights of right and left sub tree\n",
        "\tlongestPathThroughRoot = leftTreeInfo.height + rightTreeInfo.height\n",
        "    #  max diameter from left pr right sub tree\n",
        "\tmaxDiameterSoFar = max(leftTreeInfo.diameter, rightTreeInfo.diameter)\n",
        "    #  resultant diameter = max of above 2\n",
        "\tcurrentDiameter = max(longestPathThroughRoot, maxDiameterSoFar)\n",
        "    #  increasing the max height by 1 and returning so that the parent node can have record of the max height of the ccurrent node\n",
        "\tcurrentHeight = 1+ max(leftTreeInfo.height, rightTreeInfo.height)\n",
        "\t\n",
        "\treturn TreeInfo(currentDiameter,currentHeight)"
      ],
      "metadata": {
        "id": "t9FVNnhQHu4m"
      },
      "execution_count": 4,
      "outputs": []
    },
    {
      "cell_type": "markdown",
      "source": [
        "# Inorder Successor of a node in Binary Tree\n",
        "\n",
        "Given a binary tree and a node, we need to write a program to find inorder successor of this node.\n",
        "Inorder Successor of a node in binary tree is the next node in Inorder traversal of the Binary Tree. Inorder Successor is NULL for the last node in Inorder traversal.\n",
        "\n",
        "              1\n",
        "            /   \\\n",
        "           2     3\n",
        "         /   \\ \n",
        "        4     5\n",
        "       /       \n",
        "      6 \n",
        "\n",
        "\n",
        "Input 6: Output = 4\n",
        "\n",
        "Input 5: Output = 1"
      ],
      "metadata": {
        "id": "Eb-xLYHyPwDs"
      }
    },
    {
      "cell_type": "markdown",
      "source": [
        "# Height Balanced Binary Tree\n",
        "You're given the root node of a Binary Tree. Write a function that returns true if this Binary Tree is height balanced and false if it isn't.\n",
        "\n",
        "A Binary Tree is height balanced if for each node in the tree, the difference between the height of its left subtree and the height of its right subtree is at most 1.\n",
        "\n",
        "Each BinaryTree node has an integer value, a left child node, and a right child node. Children nodes can either be BinaryTree nodes themselves or None / null.\n",
        "\n",
        "         1\n",
        "       /   \\\n",
        "      2     3\n",
        "    /   \\     \\\n",
        "    4     5     6\n",
        "     /   \\\n",
        "    7     8\n",
        "\n",
        "\n",
        "Sample Output: true"
      ],
      "metadata": {
        "id": "6I76BVlqQZcL"
      }
    },
    {
      "cell_type": "code",
      "source": [
        "class BinaryTree:\n",
        "    def __init__(self, value, left=None, right=None):\n",
        "        self.value = value\n",
        "        self.left = left\n",
        "        self.right = right\n",
        "\n",
        "class TreeInfo:\n",
        "\tdef __init__(self, isBalanced, height):\n",
        "\t\tself.isBalanced = isBalanced\n",
        "\t\tself.height = height\n",
        "\n",
        "def heightBalancedBinaryTree(tree):\n",
        "    # Write your code here.\n",
        "    return getTreeInfo(tree).isBalanced\n",
        "\n",
        "def getTreeInfo(tree):\n",
        "\tif tree is None:\n",
        "\t\treturn TreeInfo(True, -1)\n",
        "\t\n",
        "\tleftSubtreeInfo = getTreeInfo(tree.left)\n",
        "\trightSubtreeInfo = getTreeInfo(tree.right)\n",
        "\t\n",
        "\tisBalanced = leftSubtreeInfo.isBalanced and rightSubtreeInfo.isBalanced and abs(leftSubtreeInfo.height - rightSubtreeInfo.height) <= 1\n",
        "\t\n",
        "\theight = max(leftSubtreeInfo.height, rightSubtreeInfo.height)+1\n",
        "\treturn TreeInfo(isBalanced,height)\n",
        "\t"
      ],
      "metadata": {
        "id": "S7CgxOnXNeTT"
      },
      "execution_count": 5,
      "outputs": []
    },
    {
      "cell_type": "code",
      "source": [
        ""
      ],
      "metadata": {
        "id": "87IywLsSuRHp"
      },
      "execution_count": null,
      "outputs": []
    }
  ]
}