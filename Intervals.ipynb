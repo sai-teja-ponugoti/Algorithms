{
  "nbformat": 4,
  "nbformat_minor": 0,
  "metadata": {
    "colab": {
      "name": "Intervals.ipynb",
      "provenance": [],
      "authorship_tag": "ABX9TyN3rDRwQYwtUZ7DPAkec1QN",
      "include_colab_link": true
    },
    "kernelspec": {
      "name": "python3",
      "display_name": "Python 3"
    },
    "language_info": {
      "name": "python"
    }
  },
  "cells": [
    {
      "cell_type": "markdown",
      "metadata": {
        "id": "view-in-github",
        "colab_type": "text"
      },
      "source": [
        "<a href=\"https://colab.research.google.com/github/sai-teja-ponugoti/Algorithms/blob/main/Intervals.ipynb\" target=\"_parent\"><img src=\"https://colab.research.google.com/assets/colab-badge.svg\" alt=\"Open In Colab\"/></a>"
      ]
    },
    {
      "cell_type": "markdown",
      "source": [
        "# Merge Overlapping Intervals\n",
        "Write a function that takes in a non-empty array of arbitrary intervals, merges any overlapping intervals, and returns the new intervals in no particular order.\n",
        "\n",
        "Each interval interval is an array of two integers, with interval[0] as the start of the interval and interval[1] as the end of the interval.\n",
        "\n",
        "Note that back-to-back intervals aren't considered to be overlapping. For example, [1, 5] and [6, 7] aren't overlapping; however, [1, 6] and [6, 7] are indeed overlapping.\n",
        "\n",
        "Also note that the start of any particular interval will always be less than or equal to the end of that interval.\n",
        "\n",
        "Sample Input\n",
        "\n",
        "intervals = [[1, 2], [3, 5], [4, 7], [6, 8], [9, 10]]\n",
        "\n",
        "Sample Output\n",
        "\n",
        "[[1, 2], [3, 8], [9, 10]]\n",
        "\n",
        "// Merge the intervals [3, 5], [4, 7], and [6, 8].\n",
        "// The intervals could be ordered differently."
      ],
      "metadata": {
        "id": "mRMLg-RyKLdH"
      }
    },
    {
      "cell_type": "code",
      "source": [
        "def mergeOverlappingIntervals(intervals):\n",
        "    # Write your code here.\n",
        "    sortedIntervals = sorted(intervals, key = lambda list_element: list_element[0])\n",
        "    result = []\n",
        "    currentInterval = sortedIntervals[0]\n",
        "    result.append(currentInterval)\n",
        "\n",
        "    for nextInterval in sortedIntervals:\n",
        "        _, currentIntervalEnd = currentInterval\n",
        "        nextIntervalStart, nextIntervalEnd = nextInterval\n",
        "\n",
        "        if currentIntervalEnd>=nextIntervalStart:\n",
        "            currentInterval[1] = max(currentIntervalEnd, nextIntervalEnd)\n",
        "        else:\n",
        "            currentInterval = nextInterval\n",
        "            result.append(currentInterval)\n",
        "\n",
        "    return result"
      ],
      "metadata": {
        "id": "w-BWn1bnKMQW"
      },
      "execution_count": 2,
      "outputs": []
    },
    {
      "cell_type": "code",
      "source": [
        ""
      ],
      "metadata": {
        "id": "mnynDuL5KMtX"
      },
      "execution_count": null,
      "outputs": []
    }
  ]
}