{
  "nbformat": 4,
  "nbformat_minor": 0,
  "metadata": {
    "colab": {
      "name": "Heaps.ipynb",
      "provenance": [],
      "authorship_tag": "ABX9TyOwRIzOYfIZfeIKX/dPx0ue",
      "include_colab_link": true
    },
    "kernelspec": {
      "name": "python3",
      "display_name": "Python 3"
    },
    "language_info": {
      "name": "python"
    }
  },
  "cells": [
    {
      "cell_type": "markdown",
      "metadata": {
        "id": "view-in-github",
        "colab_type": "text"
      },
      "source": [
        "<a href=\"https://colab.research.google.com/github/sai-teja-ponugoti/Algorithms/blob/main/Heaps.ipynb\" target=\"_parent\"><img src=\"https://colab.research.google.com/assets/colab-badge.svg\" alt=\"Open In Colab\"/></a>"
      ]
    },
    {
      "cell_type": "markdown",
      "source": [
        "# Min Heap Construction\n",
        "Implement a MinHeap class that supports:\n",
        "\n",
        "Building a Min Heap from an input array of integers.\n",
        "Inserting integers in the heap.\n",
        "Removing the heap's minimum / root value.\n",
        "Peeking at the heap's minimum / root value.\n",
        "Sifting integers up and down the heap, which is to be used when inserting and removing values.\n",
        "Note that the heap should be represented in the form of an array.\n",
        "\n",
        "If you're unfamiliar with Min Heaps, we recommend watching the Conceptual Overview section of this question's video explanation before starting to code.\n",
        "\n",
        "Sample Usage\n",
        "array = [48, 12, 24, 7, 8, -5, 24, 391, 24, 56, 2, 6, 8, 41]\n",
        "\n",
        "// All operations below are performed sequentially.\n",
        "\n",
        "MinHeap(array): - // instantiate a MinHeap (calls the buildHeap method and populates the heap)\n",
        "\n",
        "buildHeap(array): - [-5, 2, 6, 7, 8, 8, 24, 391, 24, 56, 12, 24, 48, 41]\n",
        "\n",
        "insert(76): - [-5, 2, 6, 7, 8, 8, 24, 391, 24, 56, 12, 24, 48, 41, 76]\n",
        "\n",
        "peek(): -5\n",
        "\n",
        "remove(): -5 [2, 7, 6, 24, 8, 8, 24, 391, 76, 56, 12, 24, 48, 41]\n",
        "\n",
        "peek(): 2\n",
        "\n",
        "remove(): 2 [6, 7, 8, 24, 8, 24, 24, 391, 76, 56, 12, 41, 48]\n",
        "\n",
        "peek(): 6\n",
        "\n",
        "insert(87): - [6, 7, 8, 24, 8, 24, 24, 391, 76, 56, 12, 41, 48, 87]\n",
        "\n",
        "\n",
        "Hints\n",
        "\n",
        "Hint 1\n",
        "\n",
        "For the buildHeap(), remove(), and insert() methods of the Heap, you will need to use the siftDown() and siftUp() methods. These two methods should essentially allow you to take any node in the heap and move it either down or up in the heap until it's in its final, appropriate position. This can be done by comparing the node in question to its child nodes in the case of siftDown() or to its parent node in the case of siftUp().\n",
        "\n",
        "\n",
        "Hint 2\n",
        "\n",
        "In an array-based Heap, you can easily access a node's children nodes and parent node by using the nodes' indices. If a node is located at index i, then its children nodes are located at indices 2 * i + 1 and 2 * i + 2, and its parent node is located at index Math.floor((i - 1) / 2).\n",
        "\n",
        "\n",
        "Hint 3\n",
        "\n",
        "To implement the buildHeap() method, you can either sift every node in the input array down to its final, correct position, or you can sift every node in the input array up to its final, correct position. What are the runtime implications of both approaches? Which methods (siftDown() or siftUp()) will insert() and remove() utilize? What about peek()?\n",
        "\n",
        "\n",
        "Optimal Space & Time Complexity\n",
        "\n",
        "BuildHeap: O(n) time | O(1) space - where n is the length of the input array SiftDown: O(log(n)) time | O(1) space - where n is the length of the heap SiftUp: O(log(n)) time | O(1) space - where n is the length of the heap Peek: O(1) | O(1) Remove: O(log(n)) time | O(1) space - where n is the length of the heap Insert: O(log(n)) time | O(1) space - where n is the length of the heap\n"
      ],
      "metadata": {
        "id": "ziI9wmnU0ZwH"
      }
    },
    {
      "cell_type": "code",
      "source": [
        "class MinHeap:\n",
        "\tdef __init__(self, array):\n",
        "\t\tself.heap = self.buildHeap(array)\n",
        "\t\t\n",
        "\tdef isEmpty(self):\n",
        "\t\treturn len(self.heap) == 0\n",
        "\t\n",
        "\tdef buildHeap(self, array):\n",
        "\t\tfirstParentIdx = (len(array) - 2) // 2\n",
        "\t\tfor currentIdx in reversed(range(firstParentIdx + 1)):\n",
        "\t\t\tself.siftDown(currentIdx, len(array) - 1, array)\n",
        "\t\treturn array\n",
        "\t\n",
        "\tdef siftDown(self, currentIdx, endIdx, heap):\n",
        "\t\tchildOneIdx = currentIdx * 2 + 1\n",
        "\t\twhile childOneIdx <= endIdx:\n",
        "\t\t\tchildTwoIdx = currentIdx * 2 + 2 if currentIdx * 2 + 2 <= endIdx else -1\n",
        "\t\t\tif childTwoIdx != -1 and heap[childTwoIdx] < heap[childOneIdx]:\n",
        "\t\t\t\tidxToSwap = childTwoIdx\n",
        "\t\t\telse:\n",
        "\t\t\t\tidxToSwap = childOneIdx\n",
        "\t\t\tif heap[idxToSwap] < heap[currentIdx]:\n",
        "\t\t\t\tself.swap(currentIdx, idxToSwap, heap)\n",
        "\t\t\t\tcurrentIdx = idxToSwap\n",
        "\t\t\t\tchildOneIdx = currentIdx * 2 + 1\n",
        "\t\t\telse:\n",
        "\t\t\t\treturn\n",
        "\t\t\t\n",
        "\tdef siftUp(self, currentIdx, heap):\n",
        "\t\tparentIdx = (currentIdx - 1) // 2\n",
        "\t\twhile currentIdx > 0 and heap[currentIdx] < heap[parentIdx]:\n",
        "\t\t\tself.swap(currentIdx, parentIdx, heap)\n",
        "\t\t\tcurrentIdx = parentIdx\n",
        "\t\t\tparentIdx = (currentIdx - 1) // 2\n",
        "\t\n",
        "\tdef peek(self):\n",
        "\t\treturn self.heap[0]\n",
        "\t\n",
        "\tdef remove(self):\n",
        "\t\tself.swap(0, len(self.heap) - 1, self.heap)\n",
        "\t\tvalueToRemove = self.heap.pop()\n",
        "\t\tself.siftDown(0, len(self.heap) - 1, self.heap)\n",
        "\t\treturn valueToRemove\n",
        "\t\n",
        "\tdef insert(self, value):\n",
        "\t\tself.heap.append(value)\n",
        "\t\tself.siftUp(len(self.heap) - 1, self.heap)\n",
        "\t\t\n",
        "\tdef swap(self, i, j, heap):\n",
        "\t\theap[i], heap[j] = heap[j], heap[i]"
      ],
      "metadata": {
        "id": "galQZjOY0wRy"
      },
      "execution_count": 2,
      "outputs": []
    },
    {
      "cell_type": "code",
      "source": [
        ""
      ],
      "metadata": {
        "id": "M3aPSpiR1Dbg"
      },
      "execution_count": null,
      "outputs": []
    }
  ]
}