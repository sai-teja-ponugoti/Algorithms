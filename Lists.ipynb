{
  "nbformat": 4,
  "nbformat_minor": 0,
  "metadata": {
    "colab": {
      "name": "Lists.ipynb",
      "provenance": [],
      "collapsed_sections": [
        "BFcKBlh1JWSx",
        "eW4ecxOpLW2-",
        "AptauHUmw9Dp"
      ],
      "authorship_tag": "ABX9TyPURt4jmEnzXV1G702KxrLy",
      "include_colab_link": true
    },
    "kernelspec": {
      "name": "python3",
      "display_name": "Python 3"
    },
    "language_info": {
      "name": "python"
    }
  },
  "cells": [
    {
      "cell_type": "markdown",
      "metadata": {
        "id": "view-in-github",
        "colab_type": "text"
      },
      "source": [
        "<a href=\"https://colab.research.google.com/github/sai-teja-ponugoti/Algorithms/blob/main/Lists.ipynb\" target=\"_parent\"><img src=\"https://colab.research.google.com/assets/colab-badge.svg\" alt=\"Open In Colab\"/></a>"
      ]
    },
    {
      "cell_type": "markdown",
      "source": [
        "# Class Photos\n",
        "It's photo day at the local school, and you're the photographer assigned to take class photos. The class that you'll be photographing has an even number of students, and all these students are wearing red or blue shirts. In fact, exactly half of the class is wearing red shirts, and the other half is wearing blue shirts. You're responsible for arranging the students in two rows before taking the photo. Each row should contain the same number of the students and should adhere to the following guidelines:\n",
        "\n",
        "All students wearing red shirts must be in the same row.\n",
        "All students wearing blue shirts must be in the same row.\n",
        "Each student in the back row must be strictly taller than the student directly in front of them in the front row.\n",
        "You're given two input arrays: one containing the heights of all the students with red shirts and another one containing the heights of all the students with blue shirts. These arrays will always have the same length, and each height will be a positive integer. Write a function that returns whether or not a class photo that follows the stated guidelines can be taken.\n",
        "\n",
        "Note: you can assume that each class has at least 2 students.\n",
        "\n",
        "Sample Input:\n",
        "\n",
        "redShirtHeights = [5, 8, 1, 3, 4]\n",
        "\n",
        "blueShirtHeights = [6, 9, 2, 4, 5]\n",
        "\n",
        "Sample Output : true // Place all students with blue shirts in the back row."
      ],
      "metadata": {
        "id": "BFcKBlh1JWSx"
      }
    },
    {
      "cell_type": "code",
      "source": [
        "\n",
        "def classPhotos(redShirtHeights, blueShirtHeights):\n",
        "    redShirtHeights.sort()\n",
        "    blueShirtHeights.sort()\n",
        "    if redShirtHeights[-1]>blueShirtHeights[-1]:\n",
        "        return checkAllGreater(redShirtHeights,blueShirtHeights)\n",
        "    else:\n",
        "        return checkAllGreater(blueShirtHeights,redShirtHeights)\n",
        "\n",
        "def checkAllGreater(first, second):\n",
        "    for i in range(len(first)):\n",
        "        if first[i]<=second[i]:\n",
        "            return False\n",
        "    return True"
      ],
      "metadata": {
        "id": "cBHGTHIhJi3s"
      },
      "execution_count": null,
      "outputs": []
    },
    {
      "cell_type": "markdown",
      "source": [
        "# Tandem Bicycle\n",
        "A tandem bicycle is a bicycle that's operated by two people: person A and person B. Both people pedal the bicycle, but the person that pedals faster dictates the speed of the bicycle. So if person A pedals at a speed of 5, and person B pedals at a speed of 4, the tandem bicycle moves at a speed of 5 (i.e., tandemSpeed = max(speedA, speedB)).\n",
        "\n",
        "You're given two lists of positive integers: one that contains the speeds of riders wearing red shirts and one that contains the speeds of riders wearing blue shirts. Each rider is represented by a single positive integer, which is the speed that they pedal a tandem bicycle at. Both lists have the same length, meaning that there are as many red-shirt riders as there are blue-shirt riders. Your goal is to pair every rider wearing a red shirt with a rider wearing a blue shirt to operate a tandem bicycle.\n",
        "\n",
        "Write a function that returns the maximum possible total speed or the minimum possible total speed of all of the tandem bicycles being ridden based on an input parameter, fastest. If fastest = true, your function should return the maximum possible total speed; otherwise it should return the minimum total speed.\n",
        "\n",
        "\"Total speed\" is defined as the sum of the speeds of all the tandem bicycles being ridden. For example, if there are 4 riders (2 red-shirt riders and 2 blue-shirt riders) who have speeds of 1, 3, 4, 5, and if they're paired on tandem bicycles as follows: [1, 4], [5, 3], then the total speed of these tandem bicycles is 4 + 5 = 9.\n",
        "\n",
        "Sample Input\n",
        "\n",
        "redShirtSpeeds = [5, 5, 3, 9, 2]\n",
        "\n",
        "blueShirtSpeeds = [3, 6, 7, 2, 1] \n",
        "\n",
        "fastest = true\n",
        "\n",
        "Sample Output : 32"
      ],
      "metadata": {
        "id": "eW4ecxOpLW2-"
      }
    },
    {
      "cell_type": "code",
      "source": [
        "\n",
        "def tandemBicycle(redShirtSpeeds, blueShirtSpeeds, fastest):\n",
        "    redShirtSpeeds.sort()\n",
        "    if fastest:\n",
        "        blueShirtSpeeds.sort(reverse = True)\n",
        "    else:\n",
        "        blueShirtSpeeds.sort()\n",
        "\n",
        "    speed = 0\n",
        "    \n",
        "    for i in range(len(blueShirtSpeeds)):\n",
        "        speed += max(blueShirtSpeeds[i],redShirtSpeeds[i])\n",
        "        \n",
        "    return speed"
      ],
      "metadata": {
        "id": "oQysR44WJxi3"
      },
      "execution_count": null,
      "outputs": []
    },
    {
      "cell_type": "markdown",
      "source": [
        "# Product Sum\n",
        "Write a function that takes in a \"special\" array and returns its product sum.\n",
        "\n",
        "A \"special\" array is a non-empty array that contains either integers or other \"special\" arrays. The product sum of a \"special\" array is the sum of its elements, where \"special\" arrays inside it are summed themselves and then multiplied by their level of depth.\n",
        "\n",
        "The depth of a \"special\" array is how far nested it is. For instance, the depth of [] is 1; the depth of the inner array in [[]] is 2; the depth of the innermost array in [[[]]] is 3.\n",
        "\n",
        "Therefore, the product sum of [x, y] is x + y; the product sum of [x, [y, z]] is x + 2 * (y + z); the product sum of [x, [y, [z]]] is x + 2 * (y + 3z).\n",
        "\n",
        "Sample Input\n",
        "\n",
        "array = [5, 2, [7, -1], 3, [6, [-13, 8], 4]]\n",
        "\n",
        "Sample Output\n",
        "\n",
        "12 // calculated as: 5 + 2 + 2 * (7 - 1) + 3 + 2 * (6 + 3 * (-13 + 8) + 4)"
      ],
      "metadata": {
        "id": "AptauHUmw9Dp"
      }
    },
    {
      "cell_type": "code",
      "source": [
        "\n",
        "def productSum(array, depth = 1):\n",
        "\n",
        "    list_sum = 0\n",
        "\n",
        "    for element in array:\n",
        "        if type(element) == int:\n",
        "            list_sum += element\n",
        "        elif type(element) == list:\n",
        "            list_sum += productSum(element, depth+1)\n",
        "    \n",
        "    return list_sum*depth"
      ],
      "metadata": {
        "id": "WBegosJ8LkVD"
      },
      "execution_count": null,
      "outputs": []
    },
    {
      "cell_type": "markdown",
      "source": [
        "# Three Number Sum\n",
        "Write a function that takes in a non-empty array of distinct integers and an integer representing a target sum. The function should find all triplets in the array that sum up to the target sum and return a two-dimensional array of all these triplets. The numbers in each triplet should be ordered in ascending order, and the triplets themselves should be ordered in ascending order with respect to the numbers they hold.\n",
        "\n",
        "If no three numbers sum up to the target sum, the function should return an empty array.\n",
        "\n",
        "Sample Input\n",
        "array = [12, 3, 1, 2, -6, 5, -8, 6]\n",
        "\n",
        "targetSum = 0\n",
        "\n",
        "\n",
        "Sample Output\n",
        "\n",
        "[[-8, 2, 6], [-8, 3, 5], [-6, 1, 5]]"
      ],
      "metadata": {
        "id": "sOnElrn7q3SP"
      }
    },
    {
      "cell_type": "code",
      "source": [
        "def threeNumberSum(array, targetSum):\n",
        "    # Write your code here.\n",
        "    array.sort()\n",
        "    result = []\n",
        "    sums = {}\n",
        "\n",
        "    for i in range(len(array)):\n",
        "        for j in range(i+1,len(array)):\n",
        "            print(i,j)\n",
        "            if array[i]+array[j] not in sums:\n",
        "                sums[array[i]+array[j]] = [[array[i],array[j]]]\n",
        "            else:\n",
        "                sums[array[i]+array[j]].append([array[i],array[j]])\n",
        "    \n",
        "\n",
        "    for i in array:\n",
        "        if (targetSum - i) in sums.keys():\n",
        "            for pair in sums[targetSum - i]:\n",
        "                if i not in pair:\n",
        "                    pair.append(i)\n",
        "                    pair.sort()\n",
        "                    if pair not in result:\n",
        "                        result.append(pair)\n",
        "    \n",
        "    return result"
      ],
      "metadata": {
        "id": "456rkmwtq32A"
      },
      "execution_count": null,
      "outputs": []
    },
    {
      "cell_type": "code",
      "source": [
        "def threeNumberSum(array, targetSum):\n",
        "    array.sort()\n",
        "    triplets = []\n",
        "    for i in range(len(array)-2):\n",
        "        left = i+1\n",
        "        right = len(array)-1\n",
        "        while left<right:\n",
        "            current_sum = array[i]+array[left]+array[right]\n",
        "            if current_sum == targetSum :\n",
        "                triplets.append([array[i],array[left],array[right]])\n",
        "                left +=1\n",
        "                right -= 1\n",
        "            elif current_sum < targetSum:\n",
        "                left +=1\n",
        "            elif current_sum > targetSum:\n",
        "                right -= 1\n",
        "    \n",
        "    return triplets"
      ],
      "metadata": {
        "id": "G0sNP7IZq4aA"
      },
      "execution_count": null,
      "outputs": []
    },
    {
      "cell_type": "markdown",
      "source": [
        "# Smallest Difference\n",
        "Write a function that takes in two non-empty arrays of integers, finds the pair of numbers (one from each array) whose absolute difference is closest to zero, and returns an array containing these two numbers, with the number from the first array in the first position.\n",
        "\n",
        "Note that the absolute difference of two integers is the distance between them on the real number line. For example, the absolute difference of -5 and 5 is 10, and the absolute difference of -5 and -4 is 1.\n",
        "\n",
        "You can assume that there will only be one pair of numbers with the smallest difference.\n",
        "\n",
        "Sample Input\n",
        "\n",
        "arrayOne = [-1, 5, 10, 20, 28, 3]\n",
        "\n",
        "arrayTwo = [26, 134, 135, 15, 17]\n",
        "\n",
        "Sample Output\n",
        "\n",
        "[28, 26]"
      ],
      "metadata": {
        "id": "yYbIY9raPn67"
      }
    },
    {
      "cell_type": "code",
      "source": [
        "def smallestDifference(arrayOne, arrayTwo):\n",
        "    # Write your code here.\n",
        "\tarrayOne.sort()\n",
        "\tarrayTwo.sort()\n",
        "\tfirstPointer = 0\n",
        "\tsecondPointer = 0\n",
        "\tcurrent_min = float(\"inf\")\n",
        "\tcurrent_min_pair = None\n",
        "\tprint(\"current_min: \", current_min)\n",
        "\twhile(firstPointer<len(arrayOne) and secondPointer<len(arrayTwo)):\n",
        "\t\tfirstNumber = arrayOne[firstPointer]\n",
        "\t\tsecondNumber = arrayTwo[secondPointer]\n",
        "\t\tdifference = abs(firstNumber - secondNumber)\n",
        "\t\tif difference == 0:\n",
        "\t\t\treturn [firstNumber,secondNumber]\n",
        "\t\telif firstNumber>secondNumber:\n",
        "\t\t\tsecondPointer += 1\n",
        "\t\telif firstNumber<secondNumber:\n",
        "\t\t\tfirstPointer += 1\n",
        "\t\t\n",
        "\t\tif current_min> difference:\n",
        "\t\t\tcurrent_min = difference\n",
        "\t\t\tcurrent_min_pair = [firstNumber,secondNumber]\t\t\n",
        "\t\t\t\n",
        "\treturn current_min_pair"
      ],
      "metadata": {
        "id": "g3hEuoWsPsyg"
      },
      "execution_count": null,
      "outputs": []
    },
    {
      "cell_type": "markdown",
      "source": [
        "# Move Element To End\n",
        "You're given an array of integers and an integer. Write a function that moves all instances of that integer in the array to the end of the array and returns the array.\n",
        "\n",
        "The function should perform this in place (i.e., it should mutate the input array) and doesn't need to maintain the order of the other integers.\n",
        "\n",
        "Sample Input\n",
        "\n",
        "array = [2, 1, 2, 2, 2, 3, 4, 2]\n",
        "\n",
        "toMove = 2\n",
        "\n",
        "Sample Output\n",
        "\n",
        "[1, 3, 4, 2, 2, 2, 2, 2] // the numbers 1, 3, and 4 could be ordered differently"
      ],
      "metadata": {
        "id": "DFsIA2Dgb1ky"
      }
    },
    {
      "cell_type": "code",
      "source": [
        "def moveElementToEnd(array, toMove):\n",
        "    # Write your code here.\n",
        "\trightPointer = 0\n",
        "\tleftPointer = len(array)-1\n",
        "\twhile(rightPointer<leftPointer):\n",
        "\t\tif array[rightPointer] == toMove:\n",
        "\t\t\twhile array[leftPointer] == toMove and leftPointer>rightPointer:\n",
        "\t\t\t\tleftPointer -= 1\n",
        "\t\t\tarray[rightPointer], array[leftPointer] = array[leftPointer],array[rightPointer] \n",
        "\t\telse:\n",
        "\t\t\trightPointer += 1\n",
        "\t\n",
        "\treturn array"
      ],
      "metadata": {
        "id": "2kd5uc-ab49S"
      },
      "execution_count": null,
      "outputs": []
    },
    {
      "cell_type": "markdown",
      "source": [
        "# Monotonic Array\n",
        "Write a function that takes in an array of integers and returns a boolean representing whether the array is monotonic.\n",
        "\n",
        "An array is said to be monotonic if its elements, from left to right, are entirely non-increasing or entirely non-decreasing.\n",
        "\n",
        "Non-increasing elements aren't necessarily exclusively decreasing; they simply don't increase. Similarly, non-decreasing elements aren't necessarily exclusively increasing; they simply don't decrease.\n",
        "\n",
        "Note that empty arrays and arrays of one element are monotonic.\n",
        "\n",
        "Sample Input\n",
        "\n",
        "array = [-1, -5, -10, -1100, -1100, -1101, -1102, -9001]\n",
        "\n",
        "Sample Output\n",
        "\n",
        "true"
      ],
      "metadata": {
        "id": "pbr6Ryqmg3sS"
      }
    },
    {
      "cell_type": "code",
      "source": [
        "def isMonotonic(array):\n",
        "    isNonDecreasing = True\n",
        "    isNonIncreasing = True\n",
        "    \n",
        "    for i in range(1, len(array)):\n",
        "        if array[i] < array[i - 1]:\n",
        "            isNonDecreasing = False\n",
        "        if array[i] > array[i - 1]:\n",
        "            isNonIncreasing = False\n",
        "\n",
        "    return isNonDecreasing or isNonIncreasing"
      ],
      "metadata": {
        "id": "KBIjoo8DoESb"
      },
      "execution_count": null,
      "outputs": []
    },
    {
      "cell_type": "code",
      "source": [
        "def isMonotonic(array):\n",
        "    if len(array) <= 2:\n",
        "        return True\n",
        "\n",
        "    direction = array[1] - array[0]\n",
        "\n",
        "    for i in range(2, len(array)):\n",
        "        if direction == 0:\n",
        "            direction = array[i] - array[i - 1]\n",
        "            continue\n",
        "        if breaksDirection(direction, array[i - 1], array[i]):\n",
        "            return False\n",
        "\n",
        "    return True\n",
        "\n",
        "def breaksDirection(direction, previousInt, currentInt):\n",
        "    difference = currentInt - previousInt\n",
        "    if direction > 0:\n",
        "        return difference < 0\n",
        "\n",
        "    return difference > 0\n"
      ],
      "metadata": {
        "id": "9Br4WC_Mgy23"
      },
      "execution_count": null,
      "outputs": []
    },
    {
      "cell_type": "markdown",
      "source": [
        "# Spiral Traverse\n",
        "Write a function that takes in an n x m two-dimensional array (that can be square-shaped when n == m) and returns a one-dimensional array of all the array's elements in spiral order.\n",
        "\n",
        "Spiral order starts at the top left corner of the two-dimensional array, goes to the right, and proceeds in a spiral pattern all the way until every element has been visited.\n",
        "\n",
        "Sample Input\n",
        "array = [\n",
        "  [1,   2,  3, 4],\n",
        "  [12, 13, 14, 5],\n",
        "  [11, 16, 15, 6],\n",
        "  [10,  9,  8, 7],\n",
        "]\n",
        "\n",
        "Sample Output\n",
        "\n",
        "[1, 2, 3, 4, 5, 6, 7, 8, 9, 10, 11, 12, 13, 14, 15, 16]"
      ],
      "metadata": {
        "id": "IDeJ6ROkjPu8"
      }
    },
    {
      "cell_type": "code",
      "source": [
        "def spiralTraverse(array):\n",
        "    # Write your code here.\n",
        "\tresult = []\n",
        "\tstartRow, endRow = 0, len(array)-1\n",
        "\tstartCol, endCol = 0, len(array[0])-1\n",
        "\t\n",
        "\twhile startRow<=endRow and startCol<=endCol:\n",
        "\t\tfor col in range(startCol, endCol+1):\n",
        "\t\t\tresult.append(array[startRow][col])\n",
        "\t\t\t\n",
        "\t\tfor row in range(startRow+1, endRow+1):\n",
        "\t\t\tresult.append(array[row][endCol])\n",
        "\t\t\t\n",
        "\t\tfor col in reversed(range(startCol, endCol)):\n",
        "\t\t\tif startRow == endRow:\n",
        "\t\t\t\tbreak\n",
        "\t\t\tresult.append(array[endRow][col])\n",
        "\t\t\t\n",
        "\t\tfor row in reversed(range(startRow+1, endRow)):\n",
        "\t\t\tif startCol == endCol:\n",
        "\t\t\t\tbreak\n",
        "\t\t\tresult.append(array[row][startCol])\n",
        "\t\t\t\n",
        "\t\tstartRow +=1\n",
        "\t\tendRow -= 1\n",
        "\t\tstartCol += 1\n",
        "\t\tendCol -= 1\n",
        "    \n",
        "\treturn result"
      ],
      "metadata": {
        "id": "izAKDOdpoDZq"
      },
      "execution_count": null,
      "outputs": []
    },
    {
      "cell_type": "code",
      "source": [
        "def spiralTraverse(array):\n",
        "    # Write your code here.\n",
        "\tresult = []\n",
        "\tspiralFill(array, 0, len(array)-1, 0, len(array[0])-1, result)\n",
        "\treturn result\n",
        "\n",
        "def spiralFill(array, startRow, endRow, startCol, endCol, result):\n",
        "\tif startRow >endRow or startCol>endCol:\n",
        "\t\treturn\n",
        "\t\n",
        "\tfor col in range(startCol, endCol +1):\n",
        "\t\tresult.append(array[startRow][col])\n",
        "\t\t\n",
        "\tfor row in range(startRow+1, endRow+1):\n",
        "\t\tresult.append(array[row][endCol])\n",
        "\t\t\n",
        "\tfor col in reversed(range(startCol,endCol)):\n",
        "\t\tif startRow == endRow:\n",
        "\t\t\treturn\n",
        "\t\tresult.append(array[endRow][col])\n",
        "\t\t\n",
        "\tfor row in reversed(range(startRow+1, endRow)):\n",
        "\t\tif endCol == startCol:\n",
        "\t\t\treturn\n",
        "\t\tresult.append(array[row][startCol])\n",
        "\t\t\n",
        "\tspiralFill(array, startRow+1, endRow-1, startCol+1, endCol -1, result)"
      ],
      "metadata": {
        "id": "kwF7PnOCmMgE"
      },
      "execution_count": null,
      "outputs": []
    },
    {
      "cell_type": "markdown",
      "source": [
        "# Longest Peak\n",
        "Write a function that takes in an array of integers and returns the length of the longest peak in the array.\n",
        "\n",
        "A peak is defined as adjacent integers in the array that are strictly increasing until they reach a tip (the highest value in the peak), at which point they become strictly decreasing. At least three integers are required to form a peak.\n",
        "\n",
        "For example, the integers 1, 4, 10, 2 form a peak, but the integers 4, 0, 10 don't and neither do the integers 1, 2, 2, 0. Similarly, the integers 1, 2, 3 don't form a peak because there aren't any strictly decreasing integers after the 3.\n",
        "\n",
        "Sample Input\n",
        "\n",
        "array = [1, 2, 3, 3, 4, 0, 10, 6, 5, -1, -3, 2, 3]\n",
        "\n",
        "Sample Output\n",
        "\n",
        "6 // 0, 10, 6, 5, -1, -3"
      ],
      "metadata": {
        "id": "gYUBfq5_xZVg"
      }
    },
    {
      "cell_type": "code",
      "source": [
        "def longestPeak(array):\n",
        "    # Write your code here.\n",
        "\tmaxPeakLength = 0\n",
        "\ti = 1\n",
        "\twhile i<len(array)-1:\n",
        "\t\tisPeak = array[i-1] < array[i] and array[i]>array[i+1]\n",
        "\t\tif not isPeak:\n",
        "\t\t\ti +=1\n",
        "\t\t\tcontinue\n",
        "\t\t\t\n",
        "\t\tleftPointer = i-2\n",
        "\t\twhile leftPointer>=0 and array[leftPointer]<array[leftPointer+1]:\n",
        "\t\t\tleftPointer -= 1\n",
        "\t\t\n",
        "\t\trightPointer = i+2\n",
        "\t\twhile rightPointer<len(array) and array[rightPointer]<array[rightPointer-1]:\n",
        "\t\t\trightPointer +=1\n",
        "\t\t\t\n",
        "\t\tcurrentPeakLength = rightPointer - leftPointer -1 \n",
        "\t\tmaxPeakLength = max(maxPeakLength,currentPeakLength)\n",
        "\t\ti = rightPointer\n",
        "\t\t\n",
        "\treturn maxPeakLength"
      ],
      "metadata": {
        "id": "ZZK98--ZpoRY"
      },
      "execution_count": null,
      "outputs": []
    },
    {
      "cell_type": "markdown",
      "source": [
        "# Array Of Products\n",
        "Write a function that takes in a non-empty array of integers and returns an array of the same length, where each element in the output array is equal to the product of every other number in the input array.\n",
        "\n",
        "In other words, the value at output[i] is equal to the product of every number in the input array other than input[i].\n",
        "\n",
        "Note that you're expected to solve this problem without using division.\n",
        "\n",
        "Sample Input\n",
        "\n",
        "array = [5, 1, 4, 2]\n",
        "\n",
        "Sample Output\n",
        "\n",
        "[8, 40, 10, 20]"
      ],
      "metadata": {
        "id": "6JYER8E8xzi6"
      }
    },
    {
      "cell_type": "markdown",
      "source": [
        "### O(n^2) "
      ],
      "metadata": {
        "id": "DOBSZHHK2ni8"
      }
    },
    {
      "cell_type": "code",
      "source": [
        "def arrayOfProducts(array):\n",
        "    # Write your code here.\n",
        "\tresult = []\n",
        "\tfor i in range(len(array)):\n",
        "\t\tproduct = 1\n",
        "\t\tfor j in range(len(array)):\n",
        "\t\t\tif i != j:\n",
        "\t\t\t\tproduct = product*array[j]\n",
        "\t\t\t\t\n",
        "\t\tresult.append(product)\n",
        "\t\t\n",
        "\treturn result"
      ],
      "metadata": {
        "id": "vtMo9qwQxeqA"
      },
      "execution_count": null,
      "outputs": []
    },
    {
      "cell_type": "markdown",
      "source": [
        "### O(n)"
      ],
      "metadata": {
        "id": "FNrW2img2r_D"
      }
    },
    {
      "cell_type": "code",
      "source": [
        "def arrayOfProducts(array):\n",
        "    # Write your code here.\n",
        "\tproducts = [1 for _ in range(len(array))]\n",
        "\tleftProducts = [1 for _ in range(len(array))]\n",
        "\trightProducts = [1 for _ in range(len(array))]\n",
        "\t\n",
        "\tleftRunningProduct = 1\n",
        "\tfor i in range(len(array)):\n",
        "\t\tleftProducts[i] = leftRunningProduct\n",
        "\t\tleftRunningProduct *= array[i]\n",
        "\t\t\n",
        "\trightRunningProduct = 1\n",
        "\tfor i in reversed(range(len(array))):\n",
        "\t\trightProducts[i] = rightRunningProduct\n",
        "\t\trightRunningProduct *= array[i]\n",
        "\t\t\n",
        "\t\t\n",
        "\tfor i in range(len(array)):\n",
        "\t\tproducts[i] = leftProducts[i]*rightProducts[i]\n",
        "\t\t\n",
        "\treturn products"
      ],
      "metadata": {
        "id": "Ztmf4fRM2rba"
      },
      "execution_count": null,
      "outputs": []
    },
    {
      "cell_type": "markdown",
      "source": [
        "### O(n)"
      ],
      "metadata": {
        "id": "hQAFrjFW6dzM"
      }
    },
    {
      "cell_type": "code",
      "source": [
        "def arrayOfProducts(array):\n",
        "    # Write your code here.\n",
        "\tproducts = [1 for _ in range(len(array))]\n",
        "\trightProducts = [1 for _ in range(len(array))]\n",
        "\t\n",
        "\tleftRunningProduct = 1\n",
        "\tfor i in range(len(array)):\n",
        "\t\tproducts[i] = leftRunningProduct\n",
        "\t\tleftRunningProduct *= array[i]\n",
        "\t\t\n",
        "\trightRunningProduct = 1\n",
        "\tfor i in reversed(range(len(array))):\n",
        "\t\tproducts[i] *= rightRunningProduct\n",
        "\t\trightRunningProduct *= array[i]\n",
        "\t\t\n",
        "\treturn products"
      ],
      "metadata": {
        "id": "zut8HUFB6dGx"
      },
      "execution_count": null,
      "outputs": []
    },
    {
      "cell_type": "code",
      "source": [
        ""
      ],
      "metadata": {
        "id": "euWtJerB7TSZ"
      },
      "execution_count": null,
      "outputs": []
    },
    {
      "cell_type": "markdown",
      "source": [
        "# First Duplicate Value\n",
        "Given an array of integers between 1 and n, inclusive, where n is the length of the array, write a function that returns the first integer that appears more than once (when the array is read from left to right).\n",
        "\n",
        "In other words, out of all the integers that might occur more than once in the input array, your function should return the one whose first duplicate value has the minimum index.\n",
        "\n",
        "If no integer appears more than once, your function should return -1.\n",
        "\n",
        "Note that you're allowed to mutate the input array.\n",
        "\n",
        "Sample Input #1\n",
        "\n",
        "array = [2, 1, 5, 2, 3, 3, 4]\n",
        "\n",
        "Sample Output #1\n",
        "\n",
        "2 // 2 is the first integer that appears more than once.\n",
        "// 3 also appears more than once, but the second 3 appears after the second 2."
      ],
      "metadata": {
        "id": "LS027fep-8DG"
      }
    },
    {
      "cell_type": "markdown",
      "source": [
        "### O(n) time and O(n) space"
      ],
      "metadata": {
        "id": "GqkofttN_ELT"
      }
    },
    {
      "cell_type": "code",
      "source": [
        "def firstDuplicateValue(array):\n",
        "    # Write your code here.\n",
        "    seen = set()\n",
        "    for i in array:\n",
        "        if i in seen:\n",
        "            return i\n",
        "        seen.add(i)\n",
        "\n",
        "    return -1"
      ],
      "metadata": {
        "id": "3-Apcm81-_Cv"
      },
      "execution_count": null,
      "outputs": []
    },
    {
      "cell_type": "markdown",
      "source": [
        "### O(n) time and O(1) space"
      ],
      "metadata": {
        "id": "-ev2KQ7z_VQY"
      }
    },
    {
      "cell_type": "code",
      "source": [
        "def firstDuplicateValue(array):\n",
        "    # Write your code here.\n",
        "\tfor value in array:\n",
        "\t\tabsValue = abs(value)\n",
        "\t\tif array[absValue-1]<0:\n",
        "\t\t\treturn absValue\n",
        "\t\tarray[absValue -1] *= -1\n",
        "\treturn -1"
      ],
      "metadata": {
        "id": "UpqaLKzo_RjO"
      },
      "execution_count": null,
      "outputs": []
    },
    {
      "cell_type": "code",
      "source": [
        ""
      ],
      "metadata": {
        "id": "EngQys9cApZn"
      },
      "execution_count": null,
      "outputs": []
    },
    {
      "cell_type": "markdown",
      "source": [
        "# Max Subset Sum No Adjacent\n",
        "Write a function that takes in an array of positive integers and returns the maximum sum of non-adjacent elements in the array.\n",
        "\n",
        "If the input array is empty, the function should return 0.\n",
        "\n",
        "Sample Input\n",
        "\n",
        "array = [75, 105, 120, 75, 90, 135]\n",
        "\n",
        "Sample Output\n",
        "\n",
        "330 // 75 + 120 + 135"
      ],
      "metadata": {
        "id": "0vmBSdVfusyr"
      }
    },
    {
      "cell_type": "markdown",
      "source": [
        "# O(n) time and O(n) space"
      ],
      "metadata": {
        "id": "xOZ3O0e7yiQY"
      }
    },
    {
      "cell_type": "code",
      "source": [
        "def maxSubsetSumNoAdjacent(array):\n",
        "    # Write your code here.\n",
        "\t# we need to use dynamic programming.  i.e. solving smaller problem will lead up to final solution\n",
        "\t# we will create an array in which we will store the greatest sun that we can make till the index\n",
        "\t# includ=ing the value at index\n",
        "\tif len(array) == 0:\n",
        "\t\treturn 0\n",
        "\tif len(array) ==1:\n",
        "\t\treturn array[0]\n",
        "\tmaxSums = [1 for _ in range(len(array))]\n",
        "\tmaxSums[0] = array[0]\n",
        "\tmaxSums[1] = max(array[0], array[1])\n",
        "\tfor i in range(2,len(array)):\n",
        "\t\tmaxSums[i] = max(maxSums[i-1], maxSums[i-2]+array[i])\n",
        "\t\t\n",
        "\treturn maxSums[-1]"
      ],
      "metadata": {
        "id": "LYpaV7qvux59"
      },
      "execution_count": 1,
      "outputs": []
    },
    {
      "cell_type": "markdown",
      "source": [
        "### O(n) time and O(1) space"
      ],
      "metadata": {
        "id": "GCO4OKzZzsMN"
      }
    },
    {
      "cell_type": "code",
      "source": [
        "def maxSubsetSumNoAdjacent(array):\n",
        "    # Write your code here.\n",
        "\t# we need to use dynamic programming.  i.e. solving smaller problem will lead up to final solution\n",
        "\t# we will create an array in which we will store the greatest sun that we can make till the index\n",
        "\t# includ=ing the value at index\n",
        "\tif len(array) == 0:\n",
        "\t\treturn 0\n",
        "\tif len(array) ==1:\n",
        "\t\treturn array[0]\n",
        "\t# maxSums = [1 for _ in range(len(array))]\n",
        "\tfirstMax = array[0]\n",
        "\tsecondMax =max(array[0], array[1])\n",
        "\tfor i in range(2,len(array)):\n",
        "\t\tcurrentMax = max(secondMax, firstMax+array[i])\n",
        "\t\tfirstMax = secondMax\n",
        "\t\tsecondMax = currentMax\n",
        "\t\t\n",
        "\treturn secondMax"
      ],
      "metadata": {
        "id": "ZuSI1K8cy7bV"
      },
      "execution_count": 2,
      "outputs": []
    },
    {
      "cell_type": "code",
      "source": [
        ""
      ],
      "metadata": {
        "id": "TY18P0jfzqh_"
      },
      "execution_count": null,
      "outputs": []
    }
  ]
}