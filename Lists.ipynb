{
  "nbformat": 4,
  "nbformat_minor": 0,
  "metadata": {
    "colab": {
      "name": "Lists.ipynb",
      "provenance": [],
      "authorship_tag": "ABX9TyPeptffPRUp1vIRYB2jk8H2",
      "include_colab_link": true
    },
    "kernelspec": {
      "name": "python3",
      "display_name": "Python 3"
    },
    "language_info": {
      "name": "python"
    }
  },
  "cells": [
    {
      "cell_type": "markdown",
      "metadata": {
        "id": "view-in-github",
        "colab_type": "text"
      },
      "source": [
        "<a href=\"https://colab.research.google.com/github/sai-teja-ponugoti/Algorithms/blob/main/Lists.ipynb\" target=\"_parent\"><img src=\"https://colab.research.google.com/assets/colab-badge.svg\" alt=\"Open In Colab\"/></a>"
      ]
    },
    {
      "cell_type": "markdown",
      "source": [
        "# Class Photos\n",
        "It's photo day at the local school, and you're the photographer assigned to take class photos. The class that you'll be photographing has an even number of students, and all these students are wearing red or blue shirts. In fact, exactly half of the class is wearing red shirts, and the other half is wearing blue shirts. You're responsible for arranging the students in two rows before taking the photo. Each row should contain the same number of the students and should adhere to the following guidelines:\n",
        "\n",
        "All students wearing red shirts must be in the same row.\n",
        "All students wearing blue shirts must be in the same row.\n",
        "Each student in the back row must be strictly taller than the student directly in front of them in the front row.\n",
        "You're given two input arrays: one containing the heights of all the students with red shirts and another one containing the heights of all the students with blue shirts. These arrays will always have the same length, and each height will be a positive integer. Write a function that returns whether or not a class photo that follows the stated guidelines can be taken.\n",
        "\n",
        "Note: you can assume that each class has at least 2 students.\n",
        "\n",
        "Sample Input:\n",
        "\n",
        "redShirtHeights = [5, 8, 1, 3, 4]\n",
        "\n",
        "blueShirtHeights = [6, 9, 2, 4, 5]\n",
        "\n",
        "Sample Output : true // Place all students with blue shirts in the back row."
      ],
      "metadata": {
        "id": "BFcKBlh1JWSx"
      }
    },
    {
      "cell_type": "code",
      "source": [
        "\n",
        "def classPhotos(redShirtHeights, blueShirtHeights):\n",
        "    redShirtHeights.sort()\n",
        "    blueShirtHeights.sort()\n",
        "    if redShirtHeights[-1]>blueShirtHeights[-1]:\n",
        "        return checkAllGreater(redShirtHeights,blueShirtHeights)\n",
        "    else:\n",
        "        return checkAllGreater(blueShirtHeights,redShirtHeights)\n",
        "\n",
        "def checkAllGreater(first, second):\n",
        "    for i in range(len(first)):\n",
        "        if first[i]<=second[i]:\n",
        "            return False\n",
        "    return True"
      ],
      "metadata": {
        "id": "cBHGTHIhJi3s"
      },
      "execution_count": 1,
      "outputs": []
    },
    {
      "cell_type": "code",
      "source": [
        ""
      ],
      "metadata": {
        "id": "oQysR44WJxi3"
      },
      "execution_count": null,
      "outputs": []
    }
  ]
}