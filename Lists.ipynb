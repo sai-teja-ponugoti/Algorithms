{
  "nbformat": 4,
  "nbformat_minor": 0,
  "metadata": {
    "colab": {
      "name": "Lists.ipynb",
      "provenance": [],
      "collapsed_sections": [
        "BFcKBlh1JWSx"
      ],
      "authorship_tag": "ABX9TyOnP1+nv0Sn8+aLOxdSNbD3",
      "include_colab_link": true
    },
    "kernelspec": {
      "name": "python3",
      "display_name": "Python 3"
    },
    "language_info": {
      "name": "python"
    }
  },
  "cells": [
    {
      "cell_type": "markdown",
      "metadata": {
        "id": "view-in-github",
        "colab_type": "text"
      },
      "source": [
        "<a href=\"https://colab.research.google.com/github/sai-teja-ponugoti/Algorithms/blob/main/Lists.ipynb\" target=\"_parent\"><img src=\"https://colab.research.google.com/assets/colab-badge.svg\" alt=\"Open In Colab\"/></a>"
      ]
    },
    {
      "cell_type": "markdown",
      "source": [
        "# Class Photos\n",
        "It's photo day at the local school, and you're the photographer assigned to take class photos. The class that you'll be photographing has an even number of students, and all these students are wearing red or blue shirts. In fact, exactly half of the class is wearing red shirts, and the other half is wearing blue shirts. You're responsible for arranging the students in two rows before taking the photo. Each row should contain the same number of the students and should adhere to the following guidelines:\n",
        "\n",
        "All students wearing red shirts must be in the same row.\n",
        "All students wearing blue shirts must be in the same row.\n",
        "Each student in the back row must be strictly taller than the student directly in front of them in the front row.\n",
        "You're given two input arrays: one containing the heights of all the students with red shirts and another one containing the heights of all the students with blue shirts. These arrays will always have the same length, and each height will be a positive integer. Write a function that returns whether or not a class photo that follows the stated guidelines can be taken.\n",
        "\n",
        "Note: you can assume that each class has at least 2 students.\n",
        "\n",
        "Sample Input:\n",
        "\n",
        "redShirtHeights = [5, 8, 1, 3, 4]\n",
        "\n",
        "blueShirtHeights = [6, 9, 2, 4, 5]\n",
        "\n",
        "Sample Output : true // Place all students with blue shirts in the back row."
      ],
      "metadata": {
        "id": "BFcKBlh1JWSx"
      }
    },
    {
      "cell_type": "code",
      "source": [
        "\n",
        "def classPhotos(redShirtHeights, blueShirtHeights):\n",
        "    redShirtHeights.sort()\n",
        "    blueShirtHeights.sort()\n",
        "    if redShirtHeights[-1]>blueShirtHeights[-1]:\n",
        "        return checkAllGreater(redShirtHeights,blueShirtHeights)\n",
        "    else:\n",
        "        return checkAllGreater(blueShirtHeights,redShirtHeights)\n",
        "\n",
        "def checkAllGreater(first, second):\n",
        "    for i in range(len(first)):\n",
        "        if first[i]<=second[i]:\n",
        "            return False\n",
        "    return True"
      ],
      "metadata": {
        "id": "cBHGTHIhJi3s"
      },
      "execution_count": null,
      "outputs": []
    },
    {
      "cell_type": "markdown",
      "source": [
        "# Tandem Bicycle\n",
        "A tandem bicycle is a bicycle that's operated by two people: person A and person B. Both people pedal the bicycle, but the person that pedals faster dictates the speed of the bicycle. So if person A pedals at a speed of 5, and person B pedals at a speed of 4, the tandem bicycle moves at a speed of 5 (i.e., tandemSpeed = max(speedA, speedB)).\n",
        "\n",
        "You're given two lists of positive integers: one that contains the speeds of riders wearing red shirts and one that contains the speeds of riders wearing blue shirts. Each rider is represented by a single positive integer, which is the speed that they pedal a tandem bicycle at. Both lists have the same length, meaning that there are as many red-shirt riders as there are blue-shirt riders. Your goal is to pair every rider wearing a red shirt with a rider wearing a blue shirt to operate a tandem bicycle.\n",
        "\n",
        "Write a function that returns the maximum possible total speed or the minimum possible total speed of all of the tandem bicycles being ridden based on an input parameter, fastest. If fastest = true, your function should return the maximum possible total speed; otherwise it should return the minimum total speed.\n",
        "\n",
        "\"Total speed\" is defined as the sum of the speeds of all the tandem bicycles being ridden. For example, if there are 4 riders (2 red-shirt riders and 2 blue-shirt riders) who have speeds of 1, 3, 4, 5, and if they're paired on tandem bicycles as follows: [1, 4], [5, 3], then the total speed of these tandem bicycles is 4 + 5 = 9.\n",
        "\n",
        "Sample Input\n",
        "\n",
        "redShirtSpeeds = [5, 5, 3, 9, 2]\n",
        "\n",
        "blueShirtSpeeds = [3, 6, 7, 2, 1] \n",
        "\n",
        "fastest = true\n",
        "\n",
        "Sample Output : 32"
      ],
      "metadata": {
        "id": "eW4ecxOpLW2-"
      }
    },
    {
      "cell_type": "code",
      "source": [
        "\n",
        "def tandemBicycle(redShirtSpeeds, blueShirtSpeeds, fastest):\n",
        "    redShirtSpeeds.sort()\n",
        "    if fastest:\n",
        "        blueShirtSpeeds.sort(reverse = True)\n",
        "    else:\n",
        "        blueShirtSpeeds.sort()\n",
        "\n",
        "    speed = 0\n",
        "    \n",
        "    for i in range(len(blueShirtSpeeds)):\n",
        "        speed += max(blueShirtSpeeds[i],redShirtSpeeds[i])\n",
        "        \n",
        "    return speed"
      ],
      "metadata": {
        "id": "oQysR44WJxi3"
      },
      "execution_count": null,
      "outputs": []
    },
    {
      "cell_type": "markdown",
      "source": [
        "# Product Sum\n",
        "Write a function that takes in a \"special\" array and returns its product sum.\n",
        "\n",
        "A \"special\" array is a non-empty array that contains either integers or other \"special\" arrays. The product sum of a \"special\" array is the sum of its elements, where \"special\" arrays inside it are summed themselves and then multiplied by their level of depth.\n",
        "\n",
        "The depth of a \"special\" array is how far nested it is. For instance, the depth of [] is 1; the depth of the inner array in [[]] is 2; the depth of the innermost array in [[[]]] is 3.\n",
        "\n",
        "Therefore, the product sum of [x, y] is x + y; the product sum of [x, [y, z]] is x + 2 * (y + z); the product sum of [x, [y, [z]]] is x + 2 * (y + 3z).\n",
        "\n",
        "Sample Input\n",
        "\n",
        "array = [5, 2, [7, -1], 3, [6, [-13, 8], 4]]\n",
        "\n",
        "Sample Output\n",
        "\n",
        "12 // calculated as: 5 + 2 + 2 * (7 - 1) + 3 + 2 * (6 + 3 * (-13 + 8) + 4)"
      ],
      "metadata": {
        "id": "AptauHUmw9Dp"
      }
    },
    {
      "cell_type": "code",
      "source": [
        "\n",
        "def productSum(array, depth = 1):\n",
        "\n",
        "    list_sum = 0\n",
        "\n",
        "    for element in array:\n",
        "        if type(element) == int:\n",
        "            list_sum += element\n",
        "        elif type(element) == list:\n",
        "            list_sum += productSum(element, depth+1)\n",
        "    \n",
        "    return list_sum*depth"
      ],
      "metadata": {
        "id": "WBegosJ8LkVD"
      },
      "execution_count": 1,
      "outputs": []
    },
    {
      "cell_type": "code",
      "source": [
        ""
      ],
      "metadata": {
        "id": "p03MqKBaxJyG"
      },
      "execution_count": null,
      "outputs": []
    }
  ]
}