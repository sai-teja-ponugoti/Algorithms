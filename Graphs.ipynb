{
  "nbformat": 4,
  "nbformat_minor": 0,
  "metadata": {
    "colab": {
      "name": "Graphs.ipynb",
      "provenance": [],
      "authorship_tag": "ABX9TyNMVuF7kXxzh92btNXjcJfY",
      "include_colab_link": true
    },
    "kernelspec": {
      "name": "python3",
      "display_name": "Python 3"
    },
    "language_info": {
      "name": "python"
    }
  },
  "cells": [
    {
      "cell_type": "markdown",
      "metadata": {
        "id": "view-in-github",
        "colab_type": "text"
      },
      "source": [
        "<a href=\"https://colab.research.google.com/github/sai-teja-ponugoti/Algorithms/blob/main/Graphs.ipynb\" target=\"_parent\"><img src=\"https://colab.research.google.com/assets/colab-badge.svg\" alt=\"Open In Colab\"/></a>"
      ]
    },
    {
      "cell_type": "code",
      "execution_count": null,
      "metadata": {
        "id": "kVHsmsn8A06v"
      },
      "outputs": [],
      "source": [
        ""
      ]
    },
    {
      "cell_type": "markdown",
      "source": [
        "# Cycle In directed unweighted Graph\n",
        "You're given a list of edges representing an unweighted, directed graph with at least one node. Write a function that returns a boolean representing whether the given graph contains a cycle.\n",
        "\n",
        "For the purpose of this question, a cycle is defined as any number of vertices, including just one vertex, that are connected in a closed chain. A cycle can also be defined as a chain of at least one vertex in which the first vertex is the same as the last.\n",
        "\n",
        "The given list is what's called an adjacency list, and it represents a graph. The number of vertices in the graph is equal to the length of edges, where each index i in edges contains vertex i's outbound edges, in no particular order. Each individual edge is represented by a positive integer that denotes an index (a destination vertex) in the list that this vertex is connected to. Note that these edges are directed, meaning that you can only travel from a particular vertex to its destination, not the other way around (unless the destination vertex itself has an outbound edge to the original vertex).\n",
        "\n",
        "Also note that this graph may contain self-loops. A self-loop is an edge that has the same destination and origin; in other words, it's an edge that connects a vertex to itself. For the purpose of this question, a self-loop is considered a cycle.\n",
        "\n",
        "For a more detailed explanation, please refer to the Conceptual Overview section of this question's video explanation.\n",
        "\n",
        "Sample Input\n",
        "\n",
        "edges = [\n",
        "  [1, 3],\n",
        "  [2, 3, 4],\n",
        "  [0],\n",
        "  [],\n",
        "  [2, 5],\n",
        "  [],\n",
        "]\n",
        "\n",
        "Sample Output\n",
        "\n",
        "true \n",
        "\n",
        "// There are multiple cycles in this graph: \n",
        "// 1) 0 -> 1 -> 2 -> 0\n",
        "// 2) 0 -> 1 -> 4 -> 2 -> 0\n",
        "// 3) 1 -> 2 -> 0 -> 1\n",
        "// These are just 3 examples; there are more."
      ],
      "metadata": {
        "id": "nY7jpfBJA26h"
      }
    },
    {
      "cell_type": "code",
      "source": [
        "def cycleInGraph(edges):\n",
        "    # Write your code here.edges\n",
        "\tnumOfNodes = len(edges)\n",
        "\tvisited= [False for _ in range(numOfNodes)]\n",
        "\t# to keep track of the ancestors of the current visited node\n",
        "\tinStack = [False for _ in range(numOfNodes)]\n",
        "\n",
        "\tfor node in range(numOfNodes):\n",
        "\t\tif visited[node]:\n",
        "\t\t\tcontinue\n",
        "\t\t\n",
        "\t\tcontainsCycle = isNodeInCycle(edges, node, visited, inStack)\n",
        "\t\tif containsCycle:\n",
        "\t\t\treturn True\n",
        "\t\t\n",
        "\treturn False\n",
        "\n",
        "def isNodeInCycle(edges, node, visited, inStack):\n",
        "\tvisited[node] = True\n",
        "\tinStack[node] = True\n",
        "\tneighbours = edges[node]\n",
        "\tfor neigh in neighbours:\n",
        "\t\tif not visited[neigh]:\n",
        "\t\t\tcontainsCycle = isNodeInCycle(edges, neigh, visited, inStack)\n",
        "\t\t\tif containsCycle :\n",
        "\t\t\t\treturn True\n",
        "\t\telif inStack[neigh]:\n",
        "\t\t\treturn True\n",
        "\t\t\n",
        "\tinStack[node] = False\n",
        "\treturn False"
      ],
      "metadata": {
        "id": "333OoViUA-DU"
      },
      "execution_count": 1,
      "outputs": []
    },
    {
      "cell_type": "code",
      "source": [
        ""
      ],
      "metadata": {
        "id": "8u5_jjpdBFIV"
      },
      "execution_count": null,
      "outputs": []
    }
  ]
}