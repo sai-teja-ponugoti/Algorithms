{
  "nbformat": 4,
  "nbformat_minor": 0,
  "metadata": {
    "colab": {
      "name": "Matrix Problems.ipynb",
      "provenance": [],
      "authorship_tag": "ABX9TyOMVMXNmDfUNoBgwXcTaOH0",
      "include_colab_link": true
    },
    "kernelspec": {
      "name": "python3",
      "display_name": "Python 3"
    },
    "language_info": {
      "name": "python"
    }
  },
  "cells": [
    {
      "cell_type": "markdown",
      "metadata": {
        "id": "view-in-github",
        "colab_type": "text"
      },
      "source": [
        "<a href=\"https://colab.research.google.com/github/sai-teja-ponugoti/Algorithms/blob/main/Matrix_Problems.ipynb\" target=\"_parent\"><img src=\"https://colab.research.google.com/assets/colab-badge.svg\" alt=\"Open In Colab\"/></a>"
      ]
    },
    {
      "cell_type": "markdown",
      "source": [
        "# River Sizes\n",
        "You're given a two-dimensional array (a matrix) of potentially unequal height and width containing only 0s and 1s. Each 0 represents land, and each 1 represents part of a river. A river consists of any number of 1s that are either horizontally or vertically adjacent (but not diagonally adjacent). The number of adjacent 1s forming a river determine its size.\n",
        "\n",
        "Note that a river can twist. In other words, it doesn't have to be a straight vertical line or a straight horizontal line; it can be L-shaped, for example.\n",
        "\n",
        "Write a function that returns an array of the sizes of all rivers represented in the input matrix. The sizes don't need to be in any particular order.\n",
        "\n",
        "Sample Input:\n",
        "\n",
        "    [\n",
        "    [1, 0, 0, 1, 0],\n",
        "    [1, 0, 1, 0, 0],\n",
        "    [0, 0, 1, 0, 1],\n",
        "    [1, 0, 1, 0, 1],\n",
        "    [1, 0, 1, 1, 0],\n",
        "    ]\n",
        "\n",
        "Sample Output:\n",
        "\n",
        "[1, 2, 2, 2, 5] // The numbers could be ordered differently.\n",
        "\n",
        "// The rivers can be clearly seen here:\n",
        "\n",
        "        [\n",
        "    [1,  ,  , 1,  ],\n",
        "    [1,  , 1,  ,  ],\n",
        "    [ ,  , 1,  , 1],\n",
        "    [1,  , 1,  , 1],\n",
        "    [1,  , 1, 1,  ],\n",
        "        ]"
      ],
      "metadata": {
        "id": "1vp5_Uv3pe8X"
      }
    },
    {
      "cell_type": "code",
      "source": [
        "def riverSizes(matrix):\n",
        "    # Write your code here.\n",
        "\t# every time we encounter a value 1 we should traverse all 1's part of the river using either bfs or dfs\n",
        "\tsizes = []\n",
        "\tvisited = [[False for value in row] for row in matrix]\n",
        "\tfor i in range(len(matrix)):\n",
        "\t\tfor j in range(len(matrix[i])):\n",
        "\t\t\tif visited[i][j]:\n",
        "\t\t\t\tcontinue\n",
        "\t\t\ttraverseNode(i,j, matrix, visited, sizes)\n",
        "\t\t\t\n",
        "\treturn sizes\n",
        "\n",
        "def traverseNode(i, j, matrix, visited, sizes):\n",
        "\tcurrentReverSize = 0\n",
        "\t# using dfs to traverse the matrix\n",
        "\t# the array of nodes to be explore, treating it as a stack\t\n",
        "\tnodesToExplore = [[i,j]]\n",
        "\twhile len(nodesToExplore):\n",
        "\t\tcurrentNode = nodesToExplore.pop()\n",
        "\t\ti = currentNode[0]\n",
        "\t\tj = currentNode[1]\n",
        "\t\t# we cannot remove this even though we are only adding unvisited nodes to nodesToExplore\n",
        "\t\t# by the time we visit the added node it might have been visited by another node. so it is \n",
        "\t\t# important to keep below check\n",
        "\t\tif visited[i][j]:\n",
        "\t\t\tcontinue\n",
        "\t\tvisited[i][j] = True\n",
        "\t\tif matrix[i][j] == 0:\n",
        "\t\t\tcontinue\n",
        "\t\tcurrentReverSize += 1\n",
        "\t\tunVisitedNeighbours = getUnvisitedNeighbours(i,j,matrix,visited)\n",
        "\t\tfor neighbour in unVisitedNeighbours:\n",
        "\t\t\tnodesToExplore.append(neighbour)\n",
        "\t\t\t\n",
        "\tif currentReverSize>0:\n",
        "\t\tsizes.append(currentReverSize)\n",
        "\t\t\n",
        "def getUnvisitedNeighbours(i, j, matrix, visited):\n",
        "\tunivisitedneighbours = []\n",
        "\tif i > 0 and not visited[i-1][j]:\n",
        "\t\tunivisitedneighbours.append([i-1,j])\n",
        "\tif i<len(matrix)-1 and not visited[i+1][j]:\n",
        "\t\tunivisitedneighbours.append([i+1,j])\n",
        "\tif j > 0 and not visited[i][j-1]:\n",
        "\t\tunivisitedneighbours.append([i,j-1])\n",
        "\tif j < len(matrix[0])-1 and not visited[i][j+1]:\n",
        "\t\tunivisitedneighbours.append([i,j+1])\n",
        "\t\t\n",
        "\treturn univisitedneighbours"
      ],
      "metadata": {
        "id": "mh-4_6wpqCkJ"
      },
      "execution_count": null,
      "outputs": []
    },
    {
      "cell_type": "code",
      "source": [
        ""
      ],
      "metadata": {
        "id": "w6rdFulA5qyw"
      },
      "execution_count": null,
      "outputs": []
    },
    {
      "cell_type": "markdown",
      "source": [
        "# Minimum Passes Of Matrix\n",
        "Write a function that takes in an integer matrix of potentially unequal height and width and returns the minimum number of passes required to convert all negative integers in the matrix to positive integers.\n",
        "\n",
        "A negative integer in the matrix can only be converted to a positive integer if one or more of its adjacent elements is positive. An adjacent element is an element that is to the left, to the right, above, or below the current element in the matrix. Converting a negative to a positive simply involves multiplying it by -1.\n",
        "\n",
        "Note that the 0 value is neither positive nor negative, meaning that a 0 can't convert an adjacent negative to a positive.\n",
        "\n",
        "A single pass through the matrix involves converting all the negative integers that can be converted at a particular point in time. For example, consider the following input matrix:\n",
        "\n",
        "    [ \n",
        "    [0, -2, -1], \n",
        "    [-5, 2, 0], \n",
        "    [-6, -2, 0],\n",
        "    ]\n",
        "After a first pass, only 3 values can be converted to positives:\n",
        "\n",
        "    [ \n",
        "    [0, 2, -1], \n",
        "    [5, 2, 0], \n",
        "    [-6, 2, 0],\n",
        "    ]\n",
        "After a second pass, the remaining negative values can all be converted to positives:\n",
        "\n",
        "    [ \n",
        "    [0, 2, 1], \n",
        "    [5, 2, 0], \n",
        "    [6, 2, 0],\n",
        "    ]\n",
        "Note that the input matrix will always contain at least one element. If the negative integers in the input matrix can't all be converted to positives, regardless of how many passes are run, your function should return -1.\n",
        "\n",
        "Sample Input\n",
        "matrix = \n",
        "\n",
        "    [\n",
        "    [0, -1, -3, 2, 0],\n",
        "    [1, -2, -5, -1, -3],\n",
        "    [3, 0, 0, -4, -1],\n",
        "    ]\n",
        "Sample Output: 3"
      ],
      "metadata": {
        "id": "n93LxDGYPFBQ"
      }
    },
    {
      "cell_type": "code",
      "source": [
        "# O(w * h) time | O(w * h) space - where w is the\n",
        "def minimumPassesOfMatrix(matrix):\n",
        "    # Write your code here.\n",
        "\tpasses = convertNegatives(matrix)\n",
        "\treturn passes -1 if not containsNetagives(matrix) else -1\n",
        "\n",
        "def convertNegatives(matrix):\n",
        "\tnextPassQueue = getAllPositivePositions(matrix)\n",
        "\t\n",
        "\tpasses =0\n",
        "\t\n",
        "\twhile len(nextPassQueue)>0:\n",
        "\t\tcurrentPassQueue = nextPassQueue\n",
        "\t\tnextPassQueue = []\n",
        "\t\t\n",
        "\t\twhile len(currentPassQueue)>0:\n",
        "\t\t\tcurrentRow, currentCol = currentPassQueue.pop(0)\n",
        "\t\t\t\n",
        "\t\t\tadjacentPositions = getAdjacentPositions(currentRow, currentCol, matrix)\n",
        "\t\t\tfor adjPosition in adjacentPositions:\n",
        "\t\t\t\trow, col = adjPosition\n",
        "\t\t\t\t\n",
        "\t\t\t\tvalue = matrix[row][col]\n",
        "\t\t\t\tif value<0:\n",
        "\t\t\t\t\tmatrix[row][col] *= -1\n",
        "\t\t\t\t\tnextPassQueue.append([row, col])\n",
        "\t\t\t\t\t\n",
        "\t\tpasses +=1\n",
        "\t\t\n",
        "\treturn passes\n",
        "\n",
        "def getAllPositivePositions(matrix):\n",
        "\tpositivePositions = []\n",
        "\tfor row in range(len(matrix)):\n",
        "\t\tfor col in range(len(matrix[row])):\n",
        "\t\t\tif matrix[row][col] >0:\n",
        "\t\t\t\tpositivePositions.append([row, col])\n",
        "\t\t\t\t\n",
        "\treturn positivePositions\n",
        "\n",
        "def getAdjacentPositions(row, col, matrix):\n",
        "\tadjPositions = []\n",
        "\t\n",
        "\tif row>0:\n",
        "\t\tadjPositions.append([row-1, col])\n",
        "\tif row<len(matrix)-1:\n",
        "\t\tadjPositions.append([row+1, col])\n",
        "\tif col>0:\n",
        "\t\tadjPositions.append([row, col-1])\n",
        "\tif col<len(matrix[0])-1:\n",
        "\t\tadjPositions.append([row, col+1])\n",
        "\t\t\n",
        "\treturn adjPositions\n",
        "\t\t\n",
        "def containsNetagives(matrix):\n",
        "\tfor row in range(len(matrix)):\n",
        "\t\tfor col in range(len(matrix[row])):\n",
        "\t\t\tif matrix[row][col] <0:\n",
        "\t\t\t\treturn True\n",
        "\t\t\n",
        "\treturn False"
      ],
      "metadata": {
        "id": "F7ESPI9ePQ6r"
      },
      "execution_count": 1,
      "outputs": []
    },
    {
      "cell_type": "markdown",
      "source": [
        "# Search In Sorted Matrix\n",
        "You're given a two-dimensional array (a matrix) of distinct integers and a target integer. Each row in the matrix is sorted, and each column is also sorted; the matrix doesn't necessarily have the same height and width.\n",
        "\n",
        "Write a function that returns an array of the row and column indices of the target integer if it's contained in the matrix, otherwise [-1, -1].\n",
        "\n",
        "Sample Input\n",
        "matrix =\n",
        "\n",
        "    [\n",
        "    [1, 4, 7, 12, 15, 1000],\n",
        "    [2, 5, 19, 31, 32, 1001],\n",
        "    [3, 8, 24, 33, 35, 1002],\n",
        "    [40, 41, 42, 44, 45, 1003],\n",
        "    [99, 100, 103, 106, 128, 1004],\n",
        "    ]\n",
        "\n",
        "target = 44\n",
        "\n",
        "Sample Output\n",
        "\n",
        "[3, 3]"
      ],
      "metadata": {
        "id": "GwFQGxQ5ngzh"
      }
    },
    {
      "cell_type": "code",
      "source": [
        "\n",
        "# O(n + m) time | O(1) space\n",
        "def searchInSortedMatrix(matrix, target):\n",
        "    row = 0\n",
        "    col = len(matrix[0]) - 1\n",
        "    while row < len(matrix) and col >= 0:\n",
        "        if matrix[row][col] > target:\n",
        "            col -= 1\n",
        "        elif matrix[row][col] < target:\n",
        "            row += 1\n",
        "        else:\n",
        "            return [row, col]\n",
        "    return [-1, -1]"
      ],
      "metadata": {
        "id": "5wsw8xQYPdhU"
      },
      "execution_count": 2,
      "outputs": []
    },
    {
      "cell_type": "code",
      "source": [
        ""
      ],
      "metadata": {
        "id": "iErpttNenxEL"
      },
      "execution_count": null,
      "outputs": []
    }
  ]
}