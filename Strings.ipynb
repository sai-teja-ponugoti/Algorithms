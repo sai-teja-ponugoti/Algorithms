{
  "nbformat": 4,
  "nbformat_minor": 0,
  "metadata": {
    "colab": {
      "name": "Strings.ipynb",
      "provenance": [],
      "authorship_tag": "ABX9TyPLPupiGI4kyl5q/zqVBA2n",
      "include_colab_link": true
    },
    "kernelspec": {
      "name": "python3",
      "display_name": "Python 3"
    },
    "language_info": {
      "name": "python"
    }
  },
  "cells": [
    {
      "cell_type": "markdown",
      "metadata": {
        "id": "view-in-github",
        "colab_type": "text"
      },
      "source": [
        "<a href=\"https://colab.research.google.com/github/sai-teja-ponugoti/Algorithms/blob/main/Strings.ipynb\" target=\"_parent\"><img src=\"https://colab.research.google.com/assets/colab-badge.svg\" alt=\"Open In Colab\"/></a>"
      ]
    },
    {
      "cell_type": "markdown",
      "source": [
        "# Palindrome Check\n",
        "Write a function that takes in a non-empty string and that returns a boolean representing whether the string is a palindrome.\n",
        "\n",
        "A palindrome is defined as a string that's written the same forward and backward. Note that single-character strings are palindromes.\n",
        "\n",
        "Sample Input\n",
        "\n",
        "string = \"abcdcba\"\n",
        "\n",
        "Sample Output\n",
        "\n",
        "true // it's written the same forward and backward"
      ],
      "metadata": {
        "id": "rUPvzMwj2DaX"
      }
    },
    {
      "cell_type": "code",
      "source": [
        "def isPalindrome(string):\n",
        "    # Write your code here.\n",
        "\tstring_length = len(string)\n",
        "\tright = 0\n",
        "\tleft = string_length-1\n",
        "\twhile(right<string_length):\n",
        "\t\tif string[right] != string[left]:\n",
        "\t\t\treturn False\n",
        "\t\tright += 1\n",
        "\t\tleft -= 1\n",
        "\t\t\n",
        "\treturn True"
      ],
      "metadata": {
        "id": "noEzHFEv2Rp2"
      },
      "execution_count": 2,
      "outputs": []
    },
    {
      "cell_type": "code",
      "source": [
        ""
      ],
      "metadata": {
        "id": "uXQAgvPh3UNG"
      },
      "execution_count": null,
      "outputs": []
    }
  ]
}