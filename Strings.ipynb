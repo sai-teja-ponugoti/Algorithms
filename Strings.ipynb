{
  "nbformat": 4,
  "nbformat_minor": 0,
  "metadata": {
    "colab": {
      "name": "Strings.ipynb",
      "provenance": [],
      "authorship_tag": "ABX9TyOKi6R8L0sJZJnHcK6dMZmR",
      "include_colab_link": true
    },
    "kernelspec": {
      "name": "python3",
      "display_name": "Python 3"
    },
    "language_info": {
      "name": "python"
    }
  },
  "cells": [
    {
      "cell_type": "markdown",
      "metadata": {
        "id": "view-in-github",
        "colab_type": "text"
      },
      "source": [
        "<a href=\"https://colab.research.google.com/github/sai-teja-ponugoti/Algorithms/blob/main/Strings.ipynb\" target=\"_parent\"><img src=\"https://colab.research.google.com/assets/colab-badge.svg\" alt=\"Open In Colab\"/></a>"
      ]
    },
    {
      "cell_type": "markdown",
      "source": [
        "# Palindrome Check\n",
        "Write a function that takes in a non-empty string and that returns a boolean representing whether the string is a palindrome.\n",
        "\n",
        "A palindrome is defined as a string that's written the same forward and backward. Note that single-character strings are palindromes.\n",
        "\n",
        "Sample Input\n",
        "\n",
        "string = \"abcdcba\"\n",
        "\n",
        "Sample Output\n",
        "\n",
        "true // it's written the same forward and backward"
      ],
      "metadata": {
        "id": "rUPvzMwj2DaX"
      }
    },
    {
      "cell_type": "code",
      "source": [
        "def isPalindrome(string):\n",
        "    # Write your code here.\n",
        "\tstring_length = len(string)\n",
        "\tright = 0\n",
        "\tleft = string_length-1\n",
        "\twhile(right<string_length):\n",
        "\t\tif string[right] != string[left]:\n",
        "\t\t\treturn False\n",
        "\t\tright += 1\n",
        "\t\tleft -= 1\n",
        "\t\t\n",
        "\treturn True"
      ],
      "metadata": {
        "id": "noEzHFEv2Rp2"
      },
      "execution_count": 2,
      "outputs": []
    },
    {
      "cell_type": "markdown",
      "source": [
        "# Caesar Cipher Encryptor\n",
        "Given a non-empty string of lowercase letters and a non-negative integer representing a key, write a function that returns a new string obtained by shifting every letter in the input string by k positions in the alphabet, where k is the key.\n",
        "\n",
        "Note that letters should \"wrap\" around the alphabet; in other words, the letter z shifted by one returns the letter a.\n",
        "\n",
        "Sample Input\n",
        "\n",
        "string = \"xyz\"\n",
        "\n",
        "key = 2\n",
        "\n",
        "Sample Output\n"
      ],
      "metadata": {
        "id": "lB9RnhQ_9rt0"
      }
    },
    {
      "cell_type": "code",
      "source": [
        "def caesarCipherEncryptor(string, key):\n",
        "    # Write your code here.\n",
        "\tresult = ''\n",
        "\tkey = key%26\n",
        "\tfor i in range(len(string)):\n",
        "\t\tnew_char_ord = ord(string[i]) + key\n",
        "\t\tprint(new_char_ord)\n",
        "\t\t\n",
        "\t\tif new_char_ord > ord('z'):\n",
        "\t\t\tnew_char_ord = new_char_ord - (ord('z')-ord('a')+1)\n",
        "\t\t\n",
        "\t\tprint(chr(new_char_ord))\n",
        "\t\t\n",
        "\t\tresult += chr(new_char_ord)\n",
        "\t\t\n",
        "\treturn result\n"
      ],
      "metadata": {
        "id": "uXQAgvPh3UNG"
      },
      "execution_count": null,
      "outputs": []
    },
    {
      "cell_type": "markdown",
      "source": [
        "# Run-Length Encoding\n",
        "Write a function that takes in a non-empty string and returns its run-length encoding.\n",
        "\n",
        "From Wikipedia, \"run-length encoding is a form of lossless data compression in which runs of data are stored as a single data value and count, rather than as the original run.\" For this problem, a run of data is any sequence of consecutive, identical characters. So the run \"AAA\" would be run-length-encoded as \"3A\".\n",
        "\n",
        "To make things more complicated, however, the input string can contain all sorts of special characters, including numbers. And since encoded data must be decodable, this means that we can't naively run-length-encode long runs. For example, the run \"AAAAAAAAAAAA\" (12 As), can't naively be encoded as \"12A\", since this string can be decoded as either \"AAAAAAAAAAAA\" or \"1AA\". Thus, long runs (runs of 10 or more characters) should be encoded in a split fashion; the aforementioned run should be encoded as \"9A3A\".\n",
        "\n",
        "Sample Input\n",
        "\n",
        "string = \"AAAAAAAAAAAAABBCCCCDD\"\n",
        "\n",
        "Sample Output\n",
        "\n",
        "\"9A4A2B4C2D\""
      ],
      "metadata": {
        "id": "uz_x5QIn-Co5"
      }
    },
    {
      "cell_type": "code",
      "source": [
        "def runLengthEncoding(string):\n",
        "    # Write your code here.\n",
        "\tcurrent_char = string[0]\n",
        "\tcount = 0\n",
        "\tencoding = ''\n",
        "\t\"AAABBCCCCDD\"\n",
        "\tfor i in string:\n",
        "\t\tif current_char != i:\n",
        "\t\t\tencoding += str(count) + current_char\n",
        "\t\t\tcurrent_char = i\n",
        "\t\t\tcount = 1\n",
        "\t\telse:\n",
        "\t\t\tcount +=1\n",
        "\t\t\tif count>9:\n",
        "\t\t\t\tencoding += str(count -1) + current_char\n",
        "\t\t\t\tcount = 1\n",
        "\t\t\t\t\n",
        "\tencoding += str(count) + current_char\t\n",
        "\t\n",
        "\treturn encoding"
      ],
      "metadata": {
        "id": "utHX5pEM-G2L"
      },
      "execution_count": 3,
      "outputs": []
    },
    {
      "cell_type": "markdown",
      "source": [
        "# Generate Document\n",
        "You're given a string of available characters and a string representing a document that you need to generate. Write a function that determines if you can generate the document using the available characters. If you can generate the document, your function should return true; otherwise, it should return false.\n",
        "\n",
        "You're only able to generate the document if the frequency of unique characters in the characters string is greater than or equal to the frequency of unique characters in the document string. For example, if you're given characters = \"abcabc\" and document = \"aabbccc\" you cannot generate the document because you're missing one c.\n",
        "\n",
        "The document that you need to create may contain any characters, including special characters, capital letters, numbers, and spaces.\n",
        "\n",
        "Note: you can always generate the empty string (\"\").\n",
        "\n",
        "Sample Input\n",
        "\n",
        "characters = \"Bste!hetsi ogEAxpelrt x \"\n",
        "\n",
        "document = \"AlgoExpert is the Best!\"\n",
        "\n",
        "Sample Output\n",
        "\n",
        "true"
      ],
      "metadata": {
        "id": "ihHGnb6fC75E"
      }
    },
    {
      "cell_type": "code",
      "source": [
        "def generateDocument(characters, document):\n",
        "    characterCounts = {}\n",
        "\n",
        "    for character in characters:\n",
        "        if character not in characterCounts:\n",
        "            characterCounts[character] = 0\n",
        "        characterCounts[character] += 1\n",
        "\n",
        "    for character in document:\n",
        "        if character not in characterCounts or characterCounts[character] == 0:\n",
        "            return False\n",
        "\n",
        "        characterCounts[character] -= 1\n",
        "\n",
        "    return True"
      ],
      "metadata": {
        "id": "-q5Z3JZnC2Qc"
      },
      "execution_count": 4,
      "outputs": []
    },
    {
      "cell_type": "markdown",
      "source": [
        "# First Non-Repeating Character\n",
        "Write a function that takes in a string of lowercase English-alphabet letters and returns the index of the string's first non-repeating character.\n",
        "\n",
        "The first non-repeating character is the first character in a string that occurs only once.\n",
        "\n",
        "If the input string doesn't have any non-repeating characters, your function should return -1.\n",
        "\n",
        "Sample Input\n",
        "\n",
        "string = \"abcdcaf\"\n",
        "\n",
        "Sample Output\n",
        "\n",
        "1 // The first non-repeating character is \"b\" and is found at index 1."
      ],
      "metadata": {
        "id": "Y3OOWzMJHzJt"
      }
    },
    {
      "cell_type": "code",
      "source": [
        "def firstNonRepeatingCharacter(string):\n",
        "    # Write your code here.\n",
        "    counts = {}\n",
        "    for i in string:\n",
        "        counts[i] = counts.get(i,0)+1\n",
        "\n",
        "    for i in range(len(string)):\n",
        "        if counts[string[i]]==1:\n",
        "            return i\n",
        "    return -1\n"
      ],
      "metadata": {
        "id": "l5DdPsyCHts1"
      },
      "execution_count": 9,
      "outputs": []
    }
  ]
}