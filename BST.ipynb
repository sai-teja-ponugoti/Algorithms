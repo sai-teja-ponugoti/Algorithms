{
  "nbformat": 4,
  "nbformat_minor": 0,
  "metadata": {
    "colab": {
      "name": "BST.ipynb",
      "provenance": [],
      "authorship_tag": "ABX9TyPn1RMGrHKXrp0Mj6d8yT1f",
      "include_colab_link": true
    },
    "kernelspec": {
      "name": "python3",
      "display_name": "Python 3"
    },
    "language_info": {
      "name": "python"
    }
  },
  "cells": [
    {
      "cell_type": "markdown",
      "metadata": {
        "id": "view-in-github",
        "colab_type": "text"
      },
      "source": [
        "<a href=\"https://colab.research.google.com/github/sai-teja-ponugoti/Algorithms/blob/main/BST.ipynb\" target=\"_parent\"><img src=\"https://colab.research.google.com/assets/colab-badge.svg\" alt=\"Open In Colab\"/></a>"
      ]
    },
    {
      "cell_type": "markdown",
      "source": [
        "# Find the closeset Node to the given target\n",
        "\n",
        "Write a function that takes in a Binary Search Tree (BST) and a target integer value and returns the closest value to that target value contained in the BST.\n",
        "\n",
        "You can assume that there will only be one closest value.\n",
        "\n",
        "Each BST node has an integer value, a left child node, and a right child node. A node is said to be a valid BST node if and only if it satisfies the BST property: its value is strictly greater than the values of every node to its left; its value is less than or equal to the values of every node to its right; and its children nodes are either valid BST nodes themselves or None / null.\n",
        "\n",
        "Sample Input\n",
        "\n",
        "tree = \n",
        "\n",
        "\n",
        "         10\n",
        "       /     \\\n",
        "      5      15\n",
        "    /   \\   /   \\\n",
        "    2     5 13   22\n",
        "    /        \\\n",
        "    1         14\n",
        "\n",
        "\n",
        "target = 12\n",
        "\n",
        "Sample Output: 13"
      ],
      "metadata": {
        "id": "fA2xW0-f5boj"
      }
    },
    {
      "cell_type": "code",
      "source": [
        "# recursive way\n",
        "\n",
        "\n",
        "def findClosestValueInBst(tree, target):\n",
        "    return findClosestValueInBstHelper(tree, target, tree.value)\n",
        "    \n",
        "def findClosestValueInBstHelper(tree, target, closest):\n",
        "    if tree is None:\n",
        "        return closest\n",
        "\n",
        "    if abs(target - closest) > abs(target - tree.value):\n",
        "        closest = tree.value\n",
        "\n",
        "    if target < tree.value:\n",
        "        return findClosestValueInBstHelper(tree.left, target, closest)\n",
        "    elif target > tree.value:\n",
        "        return findClosestValueInBstHelper(tree.right, target, closest)\n",
        "    else:\n",
        "        return closest\n",
        "\n",
        "class BST:\n",
        "    def __init__(self, value):\n",
        "        self.value = value\n",
        "        self.left = None\n",
        "        self.right = None"
      ],
      "metadata": {
        "id": "NL4YX_bI6EhM"
      },
      "execution_count": 1,
      "outputs": []
    },
    {
      "cell_type": "code",
      "source": [
        "# Non - recursive way\n",
        "def findClosestValueInBst(tree, target):\n",
        "    return findClosestValueInBstHelper(tree, target, tree.value)\n",
        "\n",
        "def findClosestValueInBstHelper(tree, target, closest):\n",
        "    currentNode = tree\n",
        "    \n",
        "    while currentNode is not None:\n",
        "        if abs(target - closest) > abs(target - currentNode.value):\n",
        "            closest = currentNode.value\n",
        "        if target < currentNode.value:\n",
        "            currentNode = currentNode.left\n",
        "        elif target > currentNode.value:\n",
        "            currentNode = currentNode.right\n",
        "        else:\n",
        "            break\n",
        "\n",
        "    return closest"
      ],
      "metadata": {
        "id": "ig1lQ9le6h0d"
      },
      "execution_count": 2,
      "outputs": []
    },
    {
      "cell_type": "markdown",
      "source": [
        "# Branch Sums\n",
        "Write a function that takes in a Binary Tree and returns a list of its branch sums ordered from leftmost branch sum to rightmost branch sum.\n",
        "\n",
        "A branch sum is the sum of all values in a Binary Tree branch. A Binary Tree branch is a path of nodes in a tree that starts at the root node and ends at any leaf node.\n",
        "\n",
        "Each BinaryTree node has an integer value, a left child node, and a right child node. Children nodes can either be BinaryTree nodes themselves or None / null.\n",
        "\n",
        "tree =    \n",
        "\n",
        "\n",
        "            1\n",
        "        /     \\\n",
        "       2       3\n",
        "     /   \\    /  \\\n",
        "    4     5  6    7\n",
        "    / \\  /\n",
        "    8 9 10\n",
        "\n",
        "\n",
        "Sample Output : [15, 16, 18, 10, 11]\n",
        "\n",
        "// 15 == 1 + 2 + 4 + 8\n",
        "\n",
        "// 16 == 1 + 2 + 4 + 9\n",
        "\n",
        "// 18 == 1 + 2 + 5 + 10\n",
        "\n",
        "// 10 == 1 + 3 + 6\n",
        "\n",
        "// 11 == 1 + 3 + 7"
      ],
      "metadata": {
        "id": "PvELlPtrFAuX"
      }
    },
    {
      "cell_type": "code",
      "source": [
        "class BinaryTree:\n",
        "    def __init__(self, value):\n",
        "        self.value = value\n",
        "        self.left = None\n",
        "        self.right = None\n",
        "\n",
        "\n",
        "def branchSums(root):\n",
        "\tsum_list = []\n",
        "\tcurrent_sum = 0\n",
        "\tbranchSumHelper(root, current_sum, sum_list)\n",
        "\treturn sum_list\n",
        "\n",
        "def branchSumHelper(root, current_sum, sum_list):\n",
        "    if root is None:\n",
        "        return\n",
        "    \n",
        "    current_sum += root.value\n",
        "\n",
        "    if root.right is None and root.left is None:\n",
        "        sum_list.append(current_sum)\n",
        "        return\n",
        "    \n",
        "    branchSumHelper(root.left, current_sum, sum_list)\n",
        "    branchSumHelper(root.right, current_sum, sum_list)\n"
      ],
      "metadata": {
        "id": "6hik0vDq6vsW"
      },
      "execution_count": 10,
      "outputs": []
    },
    {
      "cell_type": "code",
      "source": [
        "class BinaryTree:\n",
        "    def __init__(self, value):\n",
        "        self.value = value\n",
        "        self.left = None\n",
        "        self.right = None\n",
        "\n",
        "\n",
        "def branchSums(root):\n",
        "\tsum_list = []\n",
        "\tcurrent_sum = 0\n",
        "\tbranchSumHelper(root, current_sum, sum_list)\n",
        "\treturn sum_list\n",
        "\n",
        "def branchSumHelper(root, current_sum, sum_list):\n",
        "\t\n",
        "\tcurrent_sum += root.value\n",
        "\t\n",
        "\tif root.right is None and root.left is None:\n",
        "\t\tsum_list.append(current_sum)\n",
        "\t\treturn\n",
        "\t\t\n",
        "\tif root.left : \tbranchSumHelper(root.left, current_sum, sum_list)\n",
        "\tif root.right : branchSumHelper(root.right, current_sum, sum_list)"
      ],
      "metadata": {
        "id": "YmszqA00FBh_"
      },
      "execution_count": 9,
      "outputs": []
    },
    {
      "cell_type": "code",
      "source": [
        ""
      ],
      "metadata": {
        "id": "VHsPvhLVFSLb"
      },
      "execution_count": null,
      "outputs": []
    }
  ]
}