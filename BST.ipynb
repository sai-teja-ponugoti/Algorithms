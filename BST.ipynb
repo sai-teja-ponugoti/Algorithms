{
  "nbformat": 4,
  "nbformat_minor": 0,
  "metadata": {
    "colab": {
      "name": "BST.ipynb",
      "provenance": [],
      "authorship_tag": "ABX9TyONnMzoDlcmWkFszCJK9hTp",
      "include_colab_link": true
    },
    "kernelspec": {
      "name": "python3",
      "display_name": "Python 3"
    },
    "language_info": {
      "name": "python"
    }
  },
  "cells": [
    {
      "cell_type": "markdown",
      "metadata": {
        "id": "view-in-github",
        "colab_type": "text"
      },
      "source": [
        "<a href=\"https://colab.research.google.com/github/sai-teja-ponugoti/Algorithms/blob/main/BST.ipynb\" target=\"_parent\"><img src=\"https://colab.research.google.com/assets/colab-badge.svg\" alt=\"Open In Colab\"/></a>"
      ]
    },
    {
      "cell_type": "markdown",
      "source": [
        ""
      ],
      "metadata": {
        "id": "fA2xW0-f5boj"
      }
    },
    {
      "cell_type": "markdown",
      "source": [
        "# BTS Insertion, serach and deletion\n",
        "\n",
        "important\n",
        "\n",
        "BST Construction\n",
        "Write a BST class for a Binary Search Tree. The class should support:\n",
        "\n",
        "Inserting values with the insert method.\n",
        "Removing values with the remove method; this method should only remove the first instance of a given value.\n",
        "Searching for values with the contains method.\n",
        "Note that you can't remove values from a single-node tree. In other words, calling the remove method on a single-node tree should simply not do anything.\n",
        "\n",
        "Each BST node has an integer value, a left child node, and a right child node. A node is said to be a valid BST node if and only if it satisfies the BST property: its value is strictly greater than the values of every node to its left; its value is less than or equal to the values of every node to its right; and its children nodes are either valid BST nodes themselves or None / null."
      ],
      "metadata": {
        "id": "YRBTUzaCagUC"
      }
    },
    {
      "cell_type": "code",
      "source": [
        "class BST:\n",
        "    def __init__(self, value):\n",
        "        self.value = value\n",
        "        self.left = None\n",
        "        self.right = None\n",
        "\n",
        "\t# average O(logn) time and O(1) space\n",
        "\t# worst case O(n) time and O(a) space, when tree has only one side branch\n",
        "    def insert(self, value):\n",
        "        # Write your code here.\n",
        "        # Do not edit the return statement of this method.\n",
        "\t\tcurrentNode = self\n",
        "\t\twhile True:\n",
        "\t\t\tif value < currentNode.value:\n",
        "\t\t\t\tif currentNode.left is None:\n",
        "\t\t\t\t\tcurrentNode.left = BST(value)\n",
        "\t\t\t\t\tbreak\n",
        "\t\t\t\telse:\n",
        "\t\t\t\t\tcurrentNode = currentNode.left\n",
        "\t\t\telse:\n",
        "\t\t\t\tif currentNode.right is None:\n",
        "\t\t\t\t\tcurrentNode.right = BST(value)\n",
        "\t\t\t\t\tbreak\n",
        "\t\t\t\telse:\n",
        "\t\t\t\t\tcurrentNode = currentNode.right\n",
        "\t\t\t\t\t\n",
        "        return self\n",
        "\n",
        "\t# average O(logn) time and O(1) space\n",
        "\t# worst case O(n) time and O(a) space, when tree has only one side branch\n",
        "    def contains(self, value):\n",
        "        # Write your code here.\n",
        "\t\tcurrentNode = self\n",
        "\t\twhile currentNode is not None:\n",
        "\t\t\tif value < currentNode.value:\n",
        "\t\t\t\tcurrentNode = currentNode.left\n",
        "\t\t\telif value > currentNode.value:\n",
        "\t\t\t\tcureentNode = currentNode.right\n",
        "\t\t\telse:\n",
        "\t\t\t\treturn True\n",
        "        \n",
        "\t\treturn False\n",
        "\n",
        "    def remove(self, value, parentNode = None ):\n",
        "#         # Write your code here.\n",
        "#         # Do not edit the return statement of this method.\n",
        "\t\tcurrentNode = self\n",
        "\t\twhile currentNode is not None:\n",
        "\t\t\tif value < currentNode.value:\n",
        "\t\t\t\tparentNode = currentNode \n",
        "\t\t\t\tcurrentNode = currentNode.left\n",
        "\t\t\telif value > currentNode.value:\n",
        "\t\t\t\tparentNode = currentNode \n",
        "\t\t\t\tcurrentNode = currentNode.right\n",
        "\t\t\telse:\n",
        "\t\t\t\tif currentNode.left is not None and currentNode.right is not None:\n",
        "\t\t\t\t\tcurrentNode.value = currentNode.right.getMinValue()\n",
        "\t\t\t\t\tcurrentNode.right.remove(currentNode.value, currentNode)\n",
        "\t\t\t\telif parentNode is None:\n",
        "\t\t\t\t\tif currentNode.left is not None:\n",
        "\t\t\t\t\t\tcurrentNode.value = currentNode.left.value\n",
        "\t\t\t\t\t\tcurrentNode.right = currentNode.left.right\n",
        "\t\t\t\t\t\tcurrentNode.left = currentNode.left.left\n",
        "\t\t\t\t\telif currentNode.right is not None:\n",
        "\t\t\t\t\t\tcurrentNode.value = currentNode.right.value\n",
        "\t\t\t\t\t\tcurrentNode.right = currentNode.right.right\n",
        "\t\t\t\t\t\tcurrentNode.left = currentNode.right.left\n",
        "\t\t\t\t\telse:\n",
        "\t\t\t\t\t\tcurrentNode.value = None\n",
        "\t\t\t\telif parentNode.left == currentNode:\n",
        "\t\t\t\t\tparentNode.left = currentNode.left if currentNode.left is not None else currentNode.right\n",
        "\t\t\t\telif parentNode.right == currentNode:\n",
        "\t\t\t\t\tparentNode.right = currentNode.left if currentNode.left is not None else currentNode.right\n",
        "\t\t\t\tbreak\n",
        "\t\t\t\t\n",
        "        return self\n",
        "\t\n",
        "\tdef getMinValue(self):\n",
        "\t\tcurrentNode = self\n",
        "\t\twhile currentNode.left is not None:\n",
        "\t\t\tcurrentNode = currentNode.left\n",
        "\t\t\t\n",
        "\t\treturn currentNode.value"
      ],
      "metadata": {
        "colab": {
          "base_uri": "https://localhost:8080/",
          "height": 130
        },
        "id": "KEJSf8hcahlw",
        "outputId": "be03ef1b-1b1c-4cd6-c453-4cb451ef7a1f"
      },
      "execution_count": null,
      "outputs": [
        {
          "output_type": "error",
          "ename": "TabError",
          "evalue": "ignored",
          "traceback": [
            "\u001b[0;36m  File \u001b[0;32m\"<ipython-input-1-3a66bde96ff6>\"\u001b[0;36m, line \u001b[0;32m12\u001b[0m\n\u001b[0;31m    currentNode = self\u001b[0m\n\u001b[0m                      ^\u001b[0m\n\u001b[0;31mTabError\u001b[0m\u001b[0;31m:\u001b[0m inconsistent use of tabs and spaces in indentation\n"
          ]
        }
      ]
    },
    {
      "cell_type": "markdown",
      "source": [
        "# Validate BST\n",
        "Write a function that takes in a potentially invalid Binary Search Tree (BST) and returns a boolean representing whether the BST is valid.\n",
        "\n",
        "Each BST node has an integer value, a left child node, and a right child node. A node is said to be a valid BST node if and only if it satisfies the BST property: its value is strictly greater than the values of every node to its left; its value is less than or equal to the values of every node to its right; and its children nodes are either valid BST nodes themselves or None / null.\n",
        "\n",
        "A BST is valid if and only if all of its nodes are valid BST nodes.\n"
      ],
      "metadata": {
        "id": "tASHIwwGagW1"
      }
    },
    {
      "cell_type": "code",
      "source": [
        "class BST:\n",
        "    def __init__(self, value):\n",
        "        self.value = value\n",
        "        self.left = None\n",
        "        self.right = None\n",
        "\n",
        "\n",
        "def validateBst(tree):\n",
        "    # Write your code here.\n",
        "\treturn validateBstHelper(tree, float(\"-inf\"), float(\"inf\"))\n",
        "\n",
        "def validateBstHelper(tree, minValue, maxValue):\n",
        "\tif tree is None:\n",
        "\t\treturn True\n",
        "\tif tree.value<minValue or tree.value>=maxValue:\n",
        "\t\treturn False\n",
        "\tleftIsValid = validateBstHelper(tree.left, minValue, tree.value)\n",
        "\treturn leftIsValid and validateBstHelper(tree.right, tree.value, maxValue)"
      ],
      "metadata": {
        "id": "9xphS2zLoOvF"
      },
      "execution_count": 2,
      "outputs": []
    },
    {
      "cell_type": "markdown",
      "source": [
        "# BST Traversal\n",
        "Write three functions that take in a Binary Search Tree (BST) and an empty array, traverse the BST, add its nodes' values to the input array, and return that array. The three functions should traverse the BST using the in-order, pre-order, and post-order tree-traversal techniques, respectively.\n"
      ],
      "metadata": {
        "id": "S6aMe6_cagns"
      }
    },
    {
      "cell_type": "code",
      "source": [
        "def inOrderTraverse(tree, array):\n",
        "    # Write your code here.\n",
        "\tif tree is not None:\n",
        "\t\tinOrderTraverse(tree.left, array)\n",
        "\t\tarray.append(tree.value)\n",
        "\t\tinOrderTraverse(tree.right, array)\n",
        "\treturn array\n",
        "\n",
        "def preOrderTraverse(tree, array):\n",
        "    # Write your code here.\n",
        "\tif tree is not None:\n",
        "\t\tarray.append(tree.value)\n",
        "\t\tpreOrderTraverse(tree.left, array)\n",
        "\t\tpreOrderTraverse(tree.right, array)\n",
        "\t\t\n",
        "\treturn array\n",
        "\n",
        "def postOrderTraverse(tree, array):\n",
        "    # Write your code here.\n",
        "\tif tree is not None:\n",
        "\t\t\n",
        "\t\tpostOrderTraverse(tree.left, array)\n",
        "\t\tpostOrderTraverse(tree.right, array)\n",
        "\t\tarray.append(tree.value)\n",
        "\t\t\n",
        "\treturn array"
      ],
      "metadata": {
        "id": "YvhYN9zvp-zM"
      },
      "execution_count": 3,
      "outputs": []
    },
    {
      "cell_type": "markdown",
      "source": [
        "# Min Height BST\n",
        "Write a function that takes in a non-empty sorted array of distinct integers, constructs a BST from the integers, and returns the root of the BST.\n",
        "\n",
        "The function should minimize the height of the BST.\n",
        "\n",
        "You've been provided with a BST class that you'll have to use to construct the BST.\n",
        "\n",
        "Each BST node has an integer value, a left child node, and a right child node. A node is said to be a valid BST node if and only if it satisfies the BST property: its value is strictly greater than the values of every node to its left; its value is less than or equal to the values of every node to its right; and its children nodes are either valid BST nodes themselves or None / null.\n",
        "\n",
        "A BST is valid if and only if all of its nodes are valid BST nodes.\n",
        "\n",
        "Note that the BST class already has an insert method which you can use if you want.\n",
        "\n",
        "Sample Input\n",
        "\n",
        "array = [1, 2, 5, 7, 10, 13, 14, 15, 22]"
      ],
      "metadata": {
        "id": "kCVTDwWhsgOP"
      }
    },
    {
      "cell_type": "code",
      "source": [
        "def minHeightBst(array, tree = None):\n",
        "\treturn constructMinBst(array, 0, len(array)-1)\n",
        "\n",
        "def constructMinBst(array, startIndex, endIndex):\n",
        "\tif endIndex< startIndex:\n",
        "\t\treturn None\n",
        "\tmidIndex = (startIndex+endIndex)//2\n",
        "\ttree = BST(array[midIndex])\n",
        "\ttree.left = constructMinBst(array, startIndex, midIndex -1)\n",
        "\ttree.right = constructMinBst(array, midIndex+1, endIndex)\n",
        "\treturn tree"
      ],
      "metadata": {
        "id": "4Vfy4XPSsfKR"
      },
      "execution_count": 4,
      "outputs": []
    },
    {
      "cell_type": "markdown",
      "source": [
        "# Find Kth Largest Value In BST\n",
        "Write a function that takes in a Binary Search Tree (BST) and a positive integer k and returns the kth largest integer contained in the BST.\n",
        "\n",
        "You can assume that there will only be integer values in the BST and that k is less than or equal to the number of nodes in the tree.\n",
        "\n",
        "Also, for the purpose of this question, duplicate integers will be treated as distinct values. In other words, the second largest value in a BST containing values {5, 7, 7} will be 7—not 5."
      ],
      "metadata": {
        "id": "Vx_M_9KHsmBT"
      }
    },
    {
      "cell_type": "code",
      "source": [
        "class BST:\n",
        "    def __init__(self, value, left=None, right=None):\n",
        "        self.value = value\n",
        "        self.left = left\n",
        "        self.right = right\n",
        "\n",
        "\n",
        "def findKthLargestValueInBst(tree, k):\n",
        "    # Write your code here.\n",
        "\tvisited_tuple = [0, -1]\n",
        "\treverseInOrderTraverse(tree, k, visited_tuple)\n",
        "\treturn visited_tuple[1]\n",
        "\n",
        "def reverseInOrderTraverse(node, k, visited_tuple):\n",
        "\tif node is None or visited_tuple[0]>=k:\n",
        "\t\treturn\n",
        "\treverseInOrderTraverse(node.right, k, visited_tuple)\n",
        "\tif visited_tuple[0]<k:\n",
        "\t\tvisited_tuple[0] += 1\n",
        "\t\tvisited_tuple[1] = node.value\n",
        "\t\treverseInOrderTraverse(node.left, k , visited_tuple)"
      ],
      "metadata": {
        "id": "srZQXoEvttum"
      },
      "execution_count": 5,
      "outputs": []
    },
    {
      "cell_type": "markdown",
      "source": [
        ""
      ],
      "metadata": {
        "id": "QDlqdk7LvgXy"
      }
    },
    {
      "cell_type": "markdown",
      "source": [
        "### O(n)"
      ],
      "metadata": {
        "id": "1j2dDMAiz92f"
      }
    },
    {
      "cell_type": "code",
      "source": [
        "class BST:\n",
        "    def __init__(self, value, left=None, right=None):\n",
        "        self.value = value\n",
        "        self.left = left\n",
        "        self.right = right\n",
        "\n",
        "class TreeInfo:\n",
        "\tdef __init__(self, rootIdx):\n",
        "\t\tself.rootIdx = rootIdx\n",
        "\n",
        "def reconstructBst(preOrderTraversalValues):\n",
        "    # Write your code here.\n",
        "\t# rootIndex = 0\n",
        "\ttreeInfo = TreeInfo(0)\n",
        "\treturn resonstructBstFromRange(float(\"-inf\"), float(\"inf\"),preOrderTraversalValues, treeInfo )\n",
        "\n",
        "def resonstructBstFromRange(lowerBound, higherBound, preOrderTraversalValues, subTreeRootIndex):\n",
        "\tif subTreeRootIndex.rootIdx == len(preOrderTraversalValues):\n",
        "\t\treturn None\n",
        "\t\n",
        "\trootValue = preOrderTraversalValues[subTreeRootIndex.rootIdx]\n",
        "\tif rootValue<lowerBound or rootValue>=higherBound:\n",
        "\t\treturn None\n",
        "\t\n",
        "\tsubTreeRootIndex.rootIdx += 1\n",
        "\tleftSubTree = resonstructBstFromRange(lowerBound, rootValue, preOrderTraversalValues, subTreeRootIndex)\n",
        "\trightSubTree = resonstructBstFromRange(rootValue, higherBound, preOrderTraversalValues, subTreeRootIndex)\n",
        "\treturn BST(rootValue,leftSubTree, rightSubTree)"
      ],
      "metadata": {
        "id": "aTMTA5L_0AU3"
      },
      "execution_count": 7,
      "outputs": []
    },
    {
      "cell_type": "markdown",
      "source": [
        "### O(n^2)"
      ],
      "metadata": {
        "id": "2RM4qSYTz4ja"
      }
    },
    {
      "cell_type": "code",
      "source": [
        "def reconstructBst(preOrderTraversalValues):\n",
        "    # Write your code here.\n",
        "\tif len(preOrderTraversalValues)==0:\n",
        "\t\treturn None\n",
        "\t\n",
        "\tcurrentValue = preOrderTraversalValues[0]\n",
        "\trightSubTreeRootIndex = len(preOrderTraversalValues)\n",
        "\t\n",
        "\tfor index in range(1, len(preOrderTraversalValues)):\n",
        "\t\tvalue = preOrderTraversalValues[index]\n",
        "\t\tif value>=currentValue:\n",
        "\t\t\trightSubTreeRootIndex = index\n",
        "\t\t\tbreak\n",
        "\t\t\t\n",
        "\tleftSubTree = reconstructBst(preOrderTraversalValues[1:rightSubTreeRootIndex])\n",
        "\trightSubTree = reconstructBst(preOrderTraversalValues[rightSubTreeRootIndex:])\n",
        "\treturn BST(currentValue,leftSubTree,rightSubTree)\n"
      ],
      "metadata": {
        "id": "XAeIcfR8z8f6"
      },
      "execution_count": 6,
      "outputs": []
    },
    {
      "cell_type": "markdown",
      "source": [
        "# Find the closeset Node to the given target\n",
        "\n",
        "Write a function that takes in a Binary Search Tree (BST) and a target integer value and returns the closest value to that target value contained in the BST.\n",
        "\n",
        "You can assume that there will only be one closest value.\n",
        "\n",
        "Each BST node has an integer value, a left child node, and a right child node. A node is said to be a valid BST node if and only if it satisfies the BST property: its value is strictly greater than the values of every node to its left; its value is less than or equal to the values of every node to its right; and its children nodes are either valid BST nodes themselves or None / null.\n",
        "\n",
        "Sample Input\n",
        "\n",
        "tree = \n",
        "\n",
        "\n",
        "         10\n",
        "       /     \\\n",
        "      5      15\n",
        "    /   \\   /   \\\n",
        "    2     5 13   22\n",
        "    /        \\\n",
        "    1         14\n",
        "\n",
        "\n",
        "target = 12\n",
        "\n",
        "Sample Output: 13"
      ],
      "metadata": {
        "id": "prj3GEUxaW96"
      }
    },
    {
      "cell_type": "code",
      "source": [
        "# recursive way\n",
        "\n",
        "\n",
        "def findClosestValueInBst(tree, target):\n",
        "    return findClosestValueInBstHelper(tree, target, tree.value)\n",
        "    \n",
        "def findClosestValueInBstHelper(tree, target, closest):\n",
        "    if tree is None:\n",
        "        return closest\n",
        "\n",
        "    if abs(target - closest) > abs(target - tree.value):\n",
        "        closest = tree.value\n",
        "\n",
        "    if target < tree.value:\n",
        "        return findClosestValueInBstHelper(tree.left, target, closest)\n",
        "    elif target > tree.value:\n",
        "        return findClosestValueInBstHelper(tree.right, target, closest)\n",
        "    else:\n",
        "        return closest\n",
        "\n",
        "class BST:\n",
        "    def __init__(self, value):\n",
        "        self.value = value\n",
        "        self.left = None\n",
        "        self.right = None"
      ],
      "metadata": {
        "id": "NL4YX_bI6EhM"
      },
      "execution_count": null,
      "outputs": []
    },
    {
      "cell_type": "code",
      "source": [
        "# Non - recursive way\n",
        "def findClosestValueInBst(tree, target):\n",
        "    return findClosestValueInBstHelper(tree, target, tree.value)\n",
        "\n",
        "def findClosestValueInBstHelper(tree, target, closest):\n",
        "    currentNode = tree\n",
        "    \n",
        "    while currentNode is not None:\n",
        "        if abs(target - closest) > abs(target - currentNode.value):\n",
        "            closest = currentNode.value\n",
        "        if target < currentNode.value:\n",
        "            currentNode = currentNode.left\n",
        "        elif target > currentNode.value:\n",
        "            currentNode = currentNode.right\n",
        "        else:\n",
        "            break\n",
        "\n",
        "    return closest"
      ],
      "metadata": {
        "id": "ig1lQ9le6h0d"
      },
      "execution_count": null,
      "outputs": []
    },
    {
      "cell_type": "markdown",
      "source": [
        "# Branch Sums\n",
        "Write a function that takes in a Binary Tree and returns a list of its branch sums ordered from leftmost branch sum to rightmost branch sum.\n",
        "\n",
        "A branch sum is the sum of all values in a Binary Tree branch. A Binary Tree branch is a path of nodes in a tree that starts at the root node and ends at any leaf node.\n",
        "\n",
        "Each BinaryTree node has an integer value, a left child node, and a right child node. Children nodes can either be BinaryTree nodes themselves or None / null.\n",
        "\n",
        "tree =    \n",
        "\n",
        "\n",
        "            1\n",
        "        /     \\\n",
        "       2       3\n",
        "     /   \\    /  \\\n",
        "    4     5  6    7\n",
        "    / \\  /\n",
        "    8 9 10\n",
        "\n",
        "\n",
        "Sample Output : [15, 16, 18, 10, 11]\n",
        "\n",
        "// 15 == 1 + 2 + 4 + 8\n",
        "\n",
        "// 16 == 1 + 2 + 4 + 9\n",
        "\n",
        "// 18 == 1 + 2 + 5 + 10\n",
        "\n",
        "// 10 == 1 + 3 + 6\n",
        "\n",
        "// 11 == 1 + 3 + 7\n",
        "\n",
        "\n",
        "\n",
        "Hint: The depth of any node in the tree is equal to the depth of its parent node plus 1. By starting at the root node whose depth is 0, you can pass down to every node in the tree its respective depth, and you can implement the algorithm that does this and that sums up all of the depths either recursively or iteratively."
      ],
      "metadata": {
        "id": "PvELlPtrFAuX"
      }
    },
    {
      "cell_type": "code",
      "source": [
        "class BinaryTree:\n",
        "    def __init__(self, value):\n",
        "        self.value = value\n",
        "        self.left = None\n",
        "        self.right = None\n",
        "\n",
        "\n",
        "def branchSums(root):\n",
        "\tsum_list = []\n",
        "\tcurrent_sum = 0\n",
        "\tbranchSumHelper(root, current_sum, sum_list)\n",
        "\treturn sum_list\n",
        "\n",
        "def branchSumHelper(root, current_sum, sum_list):\n",
        "    if root is None:\n",
        "        return\n",
        "    \n",
        "    current_sum += root.value\n",
        "\n",
        "    if root.right is None and root.left is None:\n",
        "        sum_list.append(current_sum)\n",
        "        return\n",
        "    \n",
        "    branchSumHelper(root.left, current_sum, sum_list)\n",
        "    branchSumHelper(root.right, current_sum, sum_list)\n"
      ],
      "metadata": {
        "id": "6hik0vDq6vsW"
      },
      "execution_count": null,
      "outputs": []
    }
  ]
}