{
  "nbformat": 4,
  "nbformat_minor": 0,
  "metadata": {
    "colab": {
      "name": "BST.ipynb",
      "provenance": [],
      "authorship_tag": "ABX9TyNcQqKagKmHVmQvzfkvCXMb",
      "include_colab_link": true
    },
    "kernelspec": {
      "name": "python3",
      "display_name": "Python 3"
    },
    "language_info": {
      "name": "python"
    }
  },
  "cells": [
    {
      "cell_type": "markdown",
      "metadata": {
        "id": "view-in-github",
        "colab_type": "text"
      },
      "source": [
        "<a href=\"https://colab.research.google.com/github/sai-teja-ponugoti/Algorithms/blob/main/BST.ipynb\" target=\"_parent\"><img src=\"https://colab.research.google.com/assets/colab-badge.svg\" alt=\"Open In Colab\"/></a>"
      ]
    },
    {
      "cell_type": "markdown",
      "source": [
        "# Find the closeset Node to the given target\n",
        "\n",
        "Write a function that takes in a Binary Search Tree (BST) and a target integer value and returns the closest value to that target value contained in the BST.\n",
        "\n",
        "You can assume that there will only be one closest value.\n",
        "\n",
        "Each BST node has an integer value, a left child node, and a right child node. A node is said to be a valid BST node if and only if it satisfies the BST property: its value is strictly greater than the values of every node to its left; its value is less than or equal to the values of every node to its right; and its children nodes are either valid BST nodes themselves or None / null.\n",
        "\n",
        "Sample Input\n",
        "\n",
        "tree = \n",
        "\n",
        "\n",
        "         10\n",
        "       /     \\\n",
        "      5      15\n",
        "    /   \\   /   \\\n",
        "    2     5 13   22\n",
        "    /        \\\n",
        "    1         14\n",
        "\n",
        "\n",
        "target = 12\n",
        "\n",
        "Sample Output: 13"
      ],
      "metadata": {
        "id": "fA2xW0-f5boj"
      }
    },
    {
      "cell_type": "code",
      "source": [
        "# recursive way\n",
        "\n",
        "\n",
        "def findClosestValueInBst(tree, target):\n",
        "    return findClosestValueInBstHelper(tree, target, tree.value)\n",
        "    \n",
        "def findClosestValueInBstHelper(tree, target, closest):\n",
        "    if tree is None:\n",
        "        return closest\n",
        "\n",
        "    if abs(target - closest) > abs(target - tree.value):\n",
        "        closest = tree.value\n",
        "\n",
        "    if target < tree.value:\n",
        "        return findClosestValueInBstHelper(tree.left, target, closest)\n",
        "    elif target > tree.value:\n",
        "        return findClosestValueInBstHelper(tree.right, target, closest)\n",
        "    else:\n",
        "        return closest\n",
        "\n",
        "class BST:\n",
        "    def __init__(self, value):\n",
        "        self.value = value\n",
        "        self.left = None\n",
        "        self.right = None"
      ],
      "metadata": {
        "id": "NL4YX_bI6EhM"
      },
      "execution_count": 1,
      "outputs": []
    },
    {
      "cell_type": "code",
      "source": [
        "# Non - recursive way\n",
        "def findClosestValueInBst(tree, target):\n",
        "    return findClosestValueInBstHelper(tree, target, tree.value)\n",
        "\n",
        "def findClosestValueInBstHelper(tree, target, closest):\n",
        "    currentNode = tree\n",
        "    \n",
        "    while currentNode is not None:\n",
        "        if abs(target - closest) > abs(target - currentNode.value):\n",
        "            closest = currentNode.value\n",
        "        if target < currentNode.value:\n",
        "            currentNode = currentNode.left\n",
        "        elif target > currentNode.value:\n",
        "            currentNode = currentNode.right\n",
        "        else:\n",
        "            break\n",
        "\n",
        "    return closest"
      ],
      "metadata": {
        "id": "ig1lQ9le6h0d"
      },
      "execution_count": 2,
      "outputs": []
    },
    {
      "cell_type": "code",
      "source": [
        ""
      ],
      "metadata": {
        "id": "6hik0vDq6vsW"
      },
      "execution_count": null,
      "outputs": []
    }
  ]
}