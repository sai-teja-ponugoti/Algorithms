{
  "nbformat": 4,
  "nbformat_minor": 0,
  "metadata": {
    "colab": {
      "name": "BinarySearch.ipynb",
      "provenance": [],
      "authorship_tag": "ABX9TyNneX6UlmoK/kfKmRZi8eAj",
      "include_colab_link": true
    },
    "kernelspec": {
      "name": "python3",
      "display_name": "Python 3"
    },
    "language_info": {
      "name": "python"
    }
  },
  "cells": [
    {
      "cell_type": "markdown",
      "metadata": {
        "id": "view-in-github",
        "colab_type": "text"
      },
      "source": [
        "<a href=\"https://colab.research.google.com/github/sai-teja-ponugoti/Algorithms/blob/main/BinarySearch.ipynb\" target=\"_parent\"><img src=\"https://colab.research.google.com/assets/colab-badge.svg\" alt=\"Open In Colab\"/></a>"
      ]
    },
    {
      "cell_type": "markdown",
      "source": [
        "# Binary Search\n",
        "Write a function that takes in a sorted array of integers as well as a target integer. The function should use the Binary Search algorithm to determine if the target integer is contained in the array and should return its index if it is, otherwise -1.\n",
        "\n",
        "If you're unfamiliar with Binary Search, we recommend watching the Conceptual Overview section of this question's video explanation before starting to code.\n",
        "\n",
        "Sample Input\n",
        "\n",
        "array = [0, 1, 21, 33, 45, 45, 61, 71, 72, 73]\n",
        "\n",
        "target = 33\n",
        "\n",
        "Sample Output: 33\n"
      ],
      "metadata": {
        "id": "vJa5nsLwzzXc"
      }
    },
    {
      "cell_type": "markdown",
      "source": [
        "### O(log(n)) time | O(1) space"
      ],
      "metadata": {
        "id": "4Ohzu8_90AFO"
      }
    },
    {
      "cell_type": "code",
      "source": [
        "def binarySearch(array, target):\n",
        "    # Write your code here.\n",
        "\tlow = 0\n",
        "\thigh = len(array) -1\n",
        "\twhile(low<=high):\n",
        "\t\tmid = (high + low)//2\n",
        "\t\tprint(mid)\n",
        "\t\tif array[mid] == target:\n",
        "\t\t\treturn mid\n",
        "\t\telif array[mid]<target:\n",
        "\t\t\tlow = mid+1\n",
        "\t\telse:\n",
        "\t\t\thigh = mid -1\t\t\t\n",
        "\treturn -1\n"
      ],
      "metadata": {
        "id": "aNEALkWAz2rM"
      },
      "execution_count": null,
      "outputs": []
    },
    {
      "cell_type": "markdown",
      "source": [
        "### O(log(n)) time | O(log(n)) space"
      ],
      "metadata": {
        "id": "eJM-gtbU0FkI"
      }
    },
    {
      "cell_type": "code",
      "source": [
        "def binarySearch(array, target):\n",
        "    return binarySearchHelper(array, target, 0, len(array) - 1)\n",
        "\n",
        "def binarySearchHelper(array, target, left, right):\n",
        "    if left > right:\n",
        "        return -1\n",
        "    middle = (left + right) // 2\n",
        "    potentialMatch = array[middle]\n",
        "    if target == potentialMatch:\n",
        "        return middle\n",
        "    elif target < potentialMatch:\n",
        "        return binarySearchHelper(array, target, left, middle - 1)\n",
        "    else:\n",
        "        return binarySearchHelper(array, target, middle + 1, right)"
      ],
      "metadata": {
        "id": "-8K1CO4P0JS6"
      },
      "execution_count": null,
      "outputs": []
    }
  ]
}