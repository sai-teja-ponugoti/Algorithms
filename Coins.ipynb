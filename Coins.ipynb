{
  "nbformat": 4,
  "nbformat_minor": 0,
  "metadata": {
    "colab": {
      "name": "Coins.ipynb",
      "provenance": [],
      "authorship_tag": "ABX9TyMAxTitJ88LAZoSsyNWm5B1",
      "include_colab_link": true
    },
    "kernelspec": {
      "name": "python3",
      "display_name": "Python 3"
    },
    "language_info": {
      "name": "python"
    }
  },
  "cells": [
    {
      "cell_type": "markdown",
      "metadata": {
        "id": "view-in-github",
        "colab_type": "text"
      },
      "source": [
        "<a href=\"https://colab.research.google.com/github/sai-teja-ponugoti/Algorithms/blob/main/Coins.ipynb\" target=\"_parent\"><img src=\"https://colab.research.google.com/assets/colab-badge.svg\" alt=\"Open In Colab\"/></a>"
      ]
    },
    {
      "cell_type": "markdown",
      "source": [
        "# Non-Constructible Change\n",
        "\n",
        "Given an array of positive integers representing the values of coins in your possession, write a function that returns the minimum amount of change (the minimum sum of money) that you cannot create. The given coins can have any positive integer value and aren't necessarily unique (i.e., you can have multiple coins of the same value).\n",
        "\n",
        "For example, if you're given coins = [1, 2, 5], the minimum amount of change that you can't create is 4. If you're given no coins, the minimum amount of change that you can't create is 1.\n",
        "\n",
        "Sample Input : \n",
        "coins = [5, 7, 1, 1, 2, 3, 22]\n",
        "\n",
        "Sample Output : \n",
        "20"
      ],
      "metadata": {
        "id": "9zgis8NGvNTd"
      }
    },
    {
      "cell_type": "code",
      "source": [
        "def nonConstructibleChange(coins):\n",
        "\tif len(coins) == 0:\n",
        "\t\treturn 1\n",
        "\t\n",
        "\tcoins = sorted(coins)\n",
        "\tchange = 0\n",
        "\tfor coin in coins:\n",
        "\t\tif coin>change+1:\n",
        "\t\t\treturn change+1\n",
        "\t\tchange += coin\n",
        "\treturn change+1"
      ],
      "metadata": {
        "id": "rsvKPfLgvQGp"
      },
      "execution_count": 1,
      "outputs": []
    },
    {
      "cell_type": "markdown",
      "source": [
        "\n",
        "\n",
        "1.   One approach to solve this problem is to attempt to create every single amount of change, starting at 1 and going up until you eventually can't create an amount. While this approach works, there is a better one.\n",
        "2.   Start by sorting the input array. Since you're trying to find the minimum amount of change that you can't create, it makes sense to consider the smallest coins first.\n",
        "3.    To understand the trick to this problem, consider the following example: coins = [1, 2, 4]. With this set of coins, we can create 1, 2, 3, 4, 5, 6, 7 cents worth of change. Now, if we were to add a coin of value 9 to this set, we would not be able to create 8 cents. However, if we were to add a coin of value 7, we would be able to create 8 cents, and we would also be able to create all values of change from 1 to 15. Why is this the case?\n",
        "4.    Create a variable to store the amount of change that you can currently create up to. Sort all of your coins, and loop through them in ascending order. At every iteration, compare the current coin to the amount of change that you can currently create up to. Here are the two scenarios that you'll encounter:\n",
        "\n",
        "    The coin value is greater than the amount of change that you can currently create plus 1.\n",
        "    The coin value is smaller than or equal to the amount of change that you can currently create plus 1.\n",
        "    In the first scenario, you simply return the current amount of change that you can create plus 1, because you can't create that amount of change. In the second scenario, you add the value of the coin to the amount of change that you can currently create up to, and you continue iterating through the coins.\n",
        "\n",
        "    The reason for this is that, if you're in the second scenario, you can create all of the values of change that you can currently create plus the value of the coin that you just considered. If you're given coins [1, 2], then you can make 1, 2, 3 cents. So if you add a coin of value 4, then you can make 4 + 1 cents, 4 + 2 cents, and 4 + 3 cents. Thus, you can make up to 7 cents.\n",
        "\n"
      ],
      "metadata": {
        "id": "SdXuUzwJvo-N"
      }
    },
    {
      "cell_type": "markdown",
      "source": [
        "The problem to find if the subsest of the given coins can form a change is an NP-complete problem. It's time complexity is exponential in nature. Hence using the above trick we can solve the problem in O(n)"
      ],
      "metadata": {
        "id": "acpszVUwv8uy"
      }
    },
    {
      "cell_type": "code",
      "source": [
        ""
      ],
      "metadata": {
        "id": "Fw74ogrFvoVQ"
      },
      "execution_count": null,
      "outputs": []
    }
  ]
}