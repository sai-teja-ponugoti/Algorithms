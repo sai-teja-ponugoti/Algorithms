{
  "nbformat": 4,
  "nbformat_minor": 0,
  "metadata": {
    "colab": {
      "name": "BFS.ipynb",
      "provenance": [],
      "authorship_tag": "ABX9TyPgCGFx3cnMTsE5HfLU2Quz",
      "include_colab_link": true
    },
    "kernelspec": {
      "name": "python3",
      "display_name": "Python 3"
    },
    "language_info": {
      "name": "python"
    }
  },
  "cells": [
    {
      "cell_type": "markdown",
      "metadata": {
        "id": "view-in-github",
        "colab_type": "text"
      },
      "source": [
        "<a href=\"https://colab.research.google.com/github/sai-teja-ponugoti/Algorithms/blob/main/BFS.ipynb\" target=\"_parent\"><img src=\"https://colab.research.google.com/assets/colab-badge.svg\" alt=\"Open In Colab\"/></a>"
      ]
    },
    {
      "cell_type": "markdown",
      "source": [
        "# Breadth-first Search\n",
        "You're given a Node class that has a name and an array of optional children nodes. When put together, nodes form an acyclic tree-like structure.\n",
        "\n",
        "Implement the breadthFirstSearch method on the Node class, which takes in an empty array, traverses the tree using the Breadth-first Search approach (specifically navigating the tree from left to right), stores all of the nodes' names in the input array, and returns it.\n",
        "\n",
        "If you're unfamiliar with Breadth-first Search, we recommend watching the Conceptual Overview section of this question's video explanation before starting to code."
      ],
      "metadata": {
        "id": "A6OCyuVLoYoJ"
      }
    },
    {
      "cell_type": "code",
      "source": [
        "# O(V+E) time and O(V) space\n",
        "class Node:\n",
        "    def __init__(self, name):\n",
        "        self.children = []\n",
        "        self.name = name\n",
        "\n",
        "    def addChild(self, name):\n",
        "        self.children.append(Node(name))\n",
        "        return self\n",
        "\n",
        "    def breadthFirstSearch(self, array):\n",
        "        # Write your code here.\n",
        "        queue = []\n",
        "        queue.append(self)\n",
        "        while len(queue)>0 :\n",
        "            currentNode = queue.pop(0)\n",
        "            array.append(currentNode.name)\n",
        "            for child in currentNode.children:\n",
        "                queue.append(child)\n",
        "\t\t\t\t\n",
        "        return array"
      ],
      "metadata": {
        "id": "AhbQBvwvoZZQ"
      },
      "execution_count": 3,
      "outputs": []
    }
  ]
}